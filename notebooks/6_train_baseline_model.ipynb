{
 "cells": [
  {
   "cell_type": "markdown",
   "metadata": {},
   "source": [
    "# Entrenamos un modelo"
   ]
  },
  {
   "cell_type": "markdown",
   "metadata": {},
   "source": [
    "## Train - test split\n",
    "\n",
    "En problemas de series temporales, el orden es importante y no podemos hacer un split aleatorio."
   ]
  },
  {
   "cell_type": "code",
   "execution_count": 24,
   "metadata": {},
   "outputs": [],
   "source": [
    "import sys\n",
    "from pathlib import Path\n",
    "\n",
    "# Añade src al path\n",
    "sys.path.append(str(Path().resolve().parent / \"src\"))"
   ]
  },
  {
   "cell_type": "code",
   "execution_count": 25,
   "metadata": {},
   "outputs": [
    {
     "data": {
      "text/html": [
       "<div>\n",
       "<style scoped>\n",
       "    .dataframe tbody tr th:only-of-type {\n",
       "        vertical-align: middle;\n",
       "    }\n",
       "\n",
       "    .dataframe tbody tr th {\n",
       "        vertical-align: top;\n",
       "    }\n",
       "\n",
       "    .dataframe thead th {\n",
       "        text-align: right;\n",
       "    }\n",
       "</style>\n",
       "<table border=\"1\" class=\"dataframe\">\n",
       "  <thead>\n",
       "    <tr style=\"text-align: right;\">\n",
       "      <th></th>\n",
       "      <th>pickup_hour</th>\n",
       "      <th>pickup_location_id</th>\n",
       "      <th>rides_previous_168_hour</th>\n",
       "      <th>rides_previous_167_hour</th>\n",
       "      <th>rides_previous_166_hour</th>\n",
       "      <th>rides_previous_165_hour</th>\n",
       "      <th>rides_previous_164_hour</th>\n",
       "      <th>rides_previous_163_hour</th>\n",
       "      <th>rides_previous_162_hour</th>\n",
       "      <th>rides_previous_161_hour</th>\n",
       "      <th>...</th>\n",
       "      <th>rides_previous_9_hour</th>\n",
       "      <th>rides_previous_8_hour</th>\n",
       "      <th>rides_previous_7_hour</th>\n",
       "      <th>rides_previous_6_hour</th>\n",
       "      <th>rides_previous_5_hour</th>\n",
       "      <th>rides_previous_4_hour</th>\n",
       "      <th>rides_previous_3_hour</th>\n",
       "      <th>rides_previous_2_hour</th>\n",
       "      <th>rides_previous_1_hour</th>\n",
       "      <th>target</th>\n",
       "    </tr>\n",
       "  </thead>\n",
       "  <tbody>\n",
       "    <tr>\n",
       "      <th>0</th>\n",
       "      <td>2024-01-08 00:00:00</td>\n",
       "      <td>138</td>\n",
       "      <td>59.0</td>\n",
       "      <td>4.0</td>\n",
       "      <td>0.0</td>\n",
       "      <td>0.0</td>\n",
       "      <td>0.0</td>\n",
       "      <td>1.0</td>\n",
       "      <td>1.0</td>\n",
       "      <td>8.0</td>\n",
       "      <td>...</td>\n",
       "      <td>222.0</td>\n",
       "      <td>195.0</td>\n",
       "      <td>177.0</td>\n",
       "      <td>229.0</td>\n",
       "      <td>195.0</td>\n",
       "      <td>291.0</td>\n",
       "      <td>235.0</td>\n",
       "      <td>237.0</td>\n",
       "      <td>156.0</td>\n",
       "      <td>80</td>\n",
       "    </tr>\n",
       "    <tr>\n",
       "      <th>1</th>\n",
       "      <td>2024-01-08 01:00:00</td>\n",
       "      <td>138</td>\n",
       "      <td>4.0</td>\n",
       "      <td>0.0</td>\n",
       "      <td>0.0</td>\n",
       "      <td>0.0</td>\n",
       "      <td>1.0</td>\n",
       "      <td>1.0</td>\n",
       "      <td>8.0</td>\n",
       "      <td>64.0</td>\n",
       "      <td>...</td>\n",
       "      <td>195.0</td>\n",
       "      <td>177.0</td>\n",
       "      <td>229.0</td>\n",
       "      <td>195.0</td>\n",
       "      <td>291.0</td>\n",
       "      <td>235.0</td>\n",
       "      <td>237.0</td>\n",
       "      <td>156.0</td>\n",
       "      <td>80.0</td>\n",
       "      <td>8</td>\n",
       "    </tr>\n",
       "    <tr>\n",
       "      <th>2</th>\n",
       "      <td>2024-01-08 02:00:00</td>\n",
       "      <td>138</td>\n",
       "      <td>0.0</td>\n",
       "      <td>0.0</td>\n",
       "      <td>0.0</td>\n",
       "      <td>1.0</td>\n",
       "      <td>1.0</td>\n",
       "      <td>8.0</td>\n",
       "      <td>64.0</td>\n",
       "      <td>139.0</td>\n",
       "      <td>...</td>\n",
       "      <td>177.0</td>\n",
       "      <td>229.0</td>\n",
       "      <td>195.0</td>\n",
       "      <td>291.0</td>\n",
       "      <td>235.0</td>\n",
       "      <td>237.0</td>\n",
       "      <td>156.0</td>\n",
       "      <td>80.0</td>\n",
       "      <td>8.0</td>\n",
       "      <td>2</td>\n",
       "    </tr>\n",
       "    <tr>\n",
       "      <th>3</th>\n",
       "      <td>2024-01-08 03:00:00</td>\n",
       "      <td>138</td>\n",
       "      <td>0.0</td>\n",
       "      <td>0.0</td>\n",
       "      <td>1.0</td>\n",
       "      <td>1.0</td>\n",
       "      <td>8.0</td>\n",
       "      <td>64.0</td>\n",
       "      <td>139.0</td>\n",
       "      <td>199.0</td>\n",
       "      <td>...</td>\n",
       "      <td>229.0</td>\n",
       "      <td>195.0</td>\n",
       "      <td>291.0</td>\n",
       "      <td>235.0</td>\n",
       "      <td>237.0</td>\n",
       "      <td>156.0</td>\n",
       "      <td>80.0</td>\n",
       "      <td>8.0</td>\n",
       "      <td>2.0</td>\n",
       "      <td>0</td>\n",
       "    </tr>\n",
       "    <tr>\n",
       "      <th>4</th>\n",
       "      <td>2024-01-08 04:00:00</td>\n",
       "      <td>138</td>\n",
       "      <td>0.0</td>\n",
       "      <td>1.0</td>\n",
       "      <td>1.0</td>\n",
       "      <td>8.0</td>\n",
       "      <td>64.0</td>\n",
       "      <td>139.0</td>\n",
       "      <td>199.0</td>\n",
       "      <td>138.0</td>\n",
       "      <td>...</td>\n",
       "      <td>195.0</td>\n",
       "      <td>291.0</td>\n",
       "      <td>235.0</td>\n",
       "      <td>237.0</td>\n",
       "      <td>156.0</td>\n",
       "      <td>80.0</td>\n",
       "      <td>8.0</td>\n",
       "      <td>2.0</td>\n",
       "      <td>0.0</td>\n",
       "      <td>4</td>\n",
       "    </tr>\n",
       "    <tr>\n",
       "      <th>...</th>\n",
       "      <td>...</td>\n",
       "      <td>...</td>\n",
       "      <td>...</td>\n",
       "      <td>...</td>\n",
       "      <td>...</td>\n",
       "      <td>...</td>\n",
       "      <td>...</td>\n",
       "      <td>...</td>\n",
       "      <td>...</td>\n",
       "      <td>...</td>\n",
       "      <td>...</td>\n",
       "      <td>...</td>\n",
       "      <td>...</td>\n",
       "      <td>...</td>\n",
       "      <td>...</td>\n",
       "      <td>...</td>\n",
       "      <td>...</td>\n",
       "      <td>...</td>\n",
       "      <td>...</td>\n",
       "      <td>...</td>\n",
       "      <td>...</td>\n",
       "    </tr>\n",
       "    <tr>\n",
       "      <th>571</th>\n",
       "      <td>2024-01-31 19:00:00</td>\n",
       "      <td>138</td>\n",
       "      <td>270.0</td>\n",
       "      <td>185.0</td>\n",
       "      <td>183.0</td>\n",
       "      <td>192.0</td>\n",
       "      <td>157.0</td>\n",
       "      <td>48.0</td>\n",
       "      <td>10.0</td>\n",
       "      <td>0.0</td>\n",
       "      <td>...</td>\n",
       "      <td>152.0</td>\n",
       "      <td>132.0</td>\n",
       "      <td>157.0</td>\n",
       "      <td>143.0</td>\n",
       "      <td>200.0</td>\n",
       "      <td>170.0</td>\n",
       "      <td>145.0</td>\n",
       "      <td>142.0</td>\n",
       "      <td>197.0</td>\n",
       "      <td>200</td>\n",
       "    </tr>\n",
       "    <tr>\n",
       "      <th>572</th>\n",
       "      <td>2024-01-31 20:00:00</td>\n",
       "      <td>138</td>\n",
       "      <td>185.0</td>\n",
       "      <td>183.0</td>\n",
       "      <td>192.0</td>\n",
       "      <td>157.0</td>\n",
       "      <td>48.0</td>\n",
       "      <td>10.0</td>\n",
       "      <td>0.0</td>\n",
       "      <td>2.0</td>\n",
       "      <td>...</td>\n",
       "      <td>132.0</td>\n",
       "      <td>157.0</td>\n",
       "      <td>143.0</td>\n",
       "      <td>200.0</td>\n",
       "      <td>170.0</td>\n",
       "      <td>145.0</td>\n",
       "      <td>142.0</td>\n",
       "      <td>197.0</td>\n",
       "      <td>200.0</td>\n",
       "      <td>205</td>\n",
       "    </tr>\n",
       "    <tr>\n",
       "      <th>573</th>\n",
       "      <td>2024-01-31 21:00:00</td>\n",
       "      <td>138</td>\n",
       "      <td>183.0</td>\n",
       "      <td>192.0</td>\n",
       "      <td>157.0</td>\n",
       "      <td>48.0</td>\n",
       "      <td>10.0</td>\n",
       "      <td>0.0</td>\n",
       "      <td>2.0</td>\n",
       "      <td>1.0</td>\n",
       "      <td>...</td>\n",
       "      <td>157.0</td>\n",
       "      <td>143.0</td>\n",
       "      <td>200.0</td>\n",
       "      <td>170.0</td>\n",
       "      <td>145.0</td>\n",
       "      <td>142.0</td>\n",
       "      <td>197.0</td>\n",
       "      <td>200.0</td>\n",
       "      <td>205.0</td>\n",
       "      <td>137</td>\n",
       "    </tr>\n",
       "    <tr>\n",
       "      <th>574</th>\n",
       "      <td>2024-01-31 22:00:00</td>\n",
       "      <td>138</td>\n",
       "      <td>192.0</td>\n",
       "      <td>157.0</td>\n",
       "      <td>48.0</td>\n",
       "      <td>10.0</td>\n",
       "      <td>0.0</td>\n",
       "      <td>2.0</td>\n",
       "      <td>1.0</td>\n",
       "      <td>1.0</td>\n",
       "      <td>...</td>\n",
       "      <td>143.0</td>\n",
       "      <td>200.0</td>\n",
       "      <td>170.0</td>\n",
       "      <td>145.0</td>\n",
       "      <td>142.0</td>\n",
       "      <td>197.0</td>\n",
       "      <td>200.0</td>\n",
       "      <td>205.0</td>\n",
       "      <td>137.0</td>\n",
       "      <td>222</td>\n",
       "    </tr>\n",
       "    <tr>\n",
       "      <th>575</th>\n",
       "      <td>2024-01-31 23:00:00</td>\n",
       "      <td>138</td>\n",
       "      <td>157.0</td>\n",
       "      <td>48.0</td>\n",
       "      <td>10.0</td>\n",
       "      <td>0.0</td>\n",
       "      <td>2.0</td>\n",
       "      <td>1.0</td>\n",
       "      <td>1.0</td>\n",
       "      <td>2.0</td>\n",
       "      <td>...</td>\n",
       "      <td>200.0</td>\n",
       "      <td>170.0</td>\n",
       "      <td>145.0</td>\n",
       "      <td>142.0</td>\n",
       "      <td>197.0</td>\n",
       "      <td>200.0</td>\n",
       "      <td>205.0</td>\n",
       "      <td>137.0</td>\n",
       "      <td>222.0</td>\n",
       "      <td>144</td>\n",
       "    </tr>\n",
       "  </tbody>\n",
       "</table>\n",
       "<p>576 rows × 171 columns</p>\n",
       "</div>"
      ],
      "text/plain": [
       "            pickup_hour  pickup_location_id  rides_previous_168_hour  \\\n",
       "0   2024-01-08 00:00:00                 138                     59.0   \n",
       "1   2024-01-08 01:00:00                 138                      4.0   \n",
       "2   2024-01-08 02:00:00                 138                      0.0   \n",
       "3   2024-01-08 03:00:00                 138                      0.0   \n",
       "4   2024-01-08 04:00:00                 138                      0.0   \n",
       "..                  ...                 ...                      ...   \n",
       "571 2024-01-31 19:00:00                 138                    270.0   \n",
       "572 2024-01-31 20:00:00                 138                    185.0   \n",
       "573 2024-01-31 21:00:00                 138                    183.0   \n",
       "574 2024-01-31 22:00:00                 138                    192.0   \n",
       "575 2024-01-31 23:00:00                 138                    157.0   \n",
       "\n",
       "     rides_previous_167_hour  rides_previous_166_hour  \\\n",
       "0                        4.0                      0.0   \n",
       "1                        0.0                      0.0   \n",
       "2                        0.0                      0.0   \n",
       "3                        0.0                      1.0   \n",
       "4                        1.0                      1.0   \n",
       "..                       ...                      ...   \n",
       "571                    185.0                    183.0   \n",
       "572                    183.0                    192.0   \n",
       "573                    192.0                    157.0   \n",
       "574                    157.0                     48.0   \n",
       "575                     48.0                     10.0   \n",
       "\n",
       "     rides_previous_165_hour  rides_previous_164_hour  \\\n",
       "0                        0.0                      0.0   \n",
       "1                        0.0                      1.0   \n",
       "2                        1.0                      1.0   \n",
       "3                        1.0                      8.0   \n",
       "4                        8.0                     64.0   \n",
       "..                       ...                      ...   \n",
       "571                    192.0                    157.0   \n",
       "572                    157.0                     48.0   \n",
       "573                     48.0                     10.0   \n",
       "574                     10.0                      0.0   \n",
       "575                      0.0                      2.0   \n",
       "\n",
       "     rides_previous_163_hour  rides_previous_162_hour  \\\n",
       "0                        1.0                      1.0   \n",
       "1                        1.0                      8.0   \n",
       "2                        8.0                     64.0   \n",
       "3                       64.0                    139.0   \n",
       "4                      139.0                    199.0   \n",
       "..                       ...                      ...   \n",
       "571                     48.0                     10.0   \n",
       "572                     10.0                      0.0   \n",
       "573                      0.0                      2.0   \n",
       "574                      2.0                      1.0   \n",
       "575                      1.0                      1.0   \n",
       "\n",
       "     rides_previous_161_hour  ...  rides_previous_9_hour  \\\n",
       "0                        8.0  ...                  222.0   \n",
       "1                       64.0  ...                  195.0   \n",
       "2                      139.0  ...                  177.0   \n",
       "3                      199.0  ...                  229.0   \n",
       "4                      138.0  ...                  195.0   \n",
       "..                       ...  ...                    ...   \n",
       "571                      0.0  ...                  152.0   \n",
       "572                      2.0  ...                  132.0   \n",
       "573                      1.0  ...                  157.0   \n",
       "574                      1.0  ...                  143.0   \n",
       "575                      2.0  ...                  200.0   \n",
       "\n",
       "     rides_previous_8_hour  rides_previous_7_hour  rides_previous_6_hour  \\\n",
       "0                    195.0                  177.0                  229.0   \n",
       "1                    177.0                  229.0                  195.0   \n",
       "2                    229.0                  195.0                  291.0   \n",
       "3                    195.0                  291.0                  235.0   \n",
       "4                    291.0                  235.0                  237.0   \n",
       "..                     ...                    ...                    ...   \n",
       "571                  132.0                  157.0                  143.0   \n",
       "572                  157.0                  143.0                  200.0   \n",
       "573                  143.0                  200.0                  170.0   \n",
       "574                  200.0                  170.0                  145.0   \n",
       "575                  170.0                  145.0                  142.0   \n",
       "\n",
       "     rides_previous_5_hour  rides_previous_4_hour  rides_previous_3_hour  \\\n",
       "0                    195.0                  291.0                  235.0   \n",
       "1                    291.0                  235.0                  237.0   \n",
       "2                    235.0                  237.0                  156.0   \n",
       "3                    237.0                  156.0                   80.0   \n",
       "4                    156.0                   80.0                    8.0   \n",
       "..                     ...                    ...                    ...   \n",
       "571                  200.0                  170.0                  145.0   \n",
       "572                  170.0                  145.0                  142.0   \n",
       "573                  145.0                  142.0                  197.0   \n",
       "574                  142.0                  197.0                  200.0   \n",
       "575                  197.0                  200.0                  205.0   \n",
       "\n",
       "     rides_previous_2_hour  rides_previous_1_hour  target  \n",
       "0                    237.0                  156.0      80  \n",
       "1                    156.0                   80.0       8  \n",
       "2                     80.0                    8.0       2  \n",
       "3                      8.0                    2.0       0  \n",
       "4                      2.0                    0.0       4  \n",
       "..                     ...                    ...     ...  \n",
       "571                  142.0                  197.0     200  \n",
       "572                  197.0                  200.0     205  \n",
       "573                  200.0                  205.0     137  \n",
       "574                  205.0                  137.0     222  \n",
       "575                  137.0                  222.0     144  \n",
       "\n",
       "[576 rows x 171 columns]"
      ]
     },
     "execution_count": 25,
     "metadata": {},
     "output_type": "execute_result"
    }
   ],
   "source": [
    "import pandas as pd\n",
    "from paths import TRANSFORMED_DATA_DIR\n",
    "\n",
    "df = pd.read_parquet(TRANSFORMED_DATA_DIR / 'tabular_data.parquet')\n",
    "df"
   ]
  },
  {
   "cell_type": "code",
   "execution_count": 26,
   "metadata": {},
   "outputs": [
    {
     "name": "stdout",
     "output_type": "stream",
     "text": [
      "X_train.shape=(408, 170)\n",
      "y_train.shape=(408,)\n",
      "X_test.shape=(168, 170)\n",
      "y_test.shape=(168,)\n"
     ]
    }
   ],
   "source": [
    "from data_split import train_test_split\n",
    "from datetime import datetime\n",
    "\n",
    "\n",
    "X_train, y_train, X_test, y_test = train_test_split(\n",
    "    df,\n",
    "    cutoff_date=datetime(2024, 1, 25),\n",
    "    target_column_name='target'\n",
    ")\n",
    "\n",
    "print(f'{X_train.shape=}')\n",
    "print(f'{y_train.shape=}')\n",
    "print(f'{X_test.shape=}')\n",
    "print(f'{y_test.shape=}')"
   ]
  },
  {
   "cell_type": "markdown",
   "metadata": {},
   "source": [
    "## Entrenamos Baseline"
   ]
  },
  {
   "cell_type": "markdown",
   "metadata": {},
   "source": [
    "Predecimos la siguiente hora con el valor de la hora anterior"
   ]
  },
  {
   "cell_type": "code",
   "execution_count": 27,
   "metadata": {},
   "outputs": [],
   "source": [
    "import numpy as np\n",
    "\n",
    "# modelo baseline que predice dándole la hora anterior\n",
    "class BaselineModelPreviousHour:\n",
    "    \"\"\"\n",
    "    Prediction = actual demand observed in the last hour\n",
    "    \"\"\"\n",
    "    def fit(self, X_train: pd.DataFrame, y_train: pd.Series):\n",
    "        pass\n",
    "    \n",
    "    def predict(self, X_test: pd.DataFrame) -> np.array:\n",
    "        \"\"\"\"\"\"\n",
    "        return X_test[f'rides_previous_1_hour']"
   ]
  },
  {
   "cell_type": "code",
   "execution_count": 28,
   "metadata": {},
   "outputs": [
    {
     "data": {
      "text/plain": [
       "0      157.0\n",
       "1       48.0\n",
       "2       10.0\n",
       "3        0.0\n",
       "4        2.0\n",
       "       ...  \n",
       "163    197.0\n",
       "164    200.0\n",
       "165    205.0\n",
       "166    137.0\n",
       "167    222.0\n",
       "Name: rides_previous_1_hour, Length: 168, dtype: float64"
      ]
     },
     "execution_count": 28,
     "metadata": {},
     "output_type": "execute_result"
    }
   ],
   "source": [
    "model_bs1 = BaselineModelPreviousHour()\n",
    "predictions = model_bs1.predict(X_test)\n",
    "predictions"
   ]
  },
  {
   "cell_type": "code",
   "execution_count": 29,
   "metadata": {},
   "outputs": [
    {
     "name": "stdout",
     "output_type": "stream",
     "text": [
      "test_mae=34.7083\n"
     ]
    }
   ],
   "source": [
    "# Evaluación del modelo\n",
    "from sklearn.metrics import mean_absolute_error\n",
    "\n",
    "test_mae = mean_absolute_error(y_test, predictions)\n",
    "print(f'{test_mae=:.4f}')"
   ]
  },
  {
   "cell_type": "markdown",
   "metadata": {},
   "source": [
    "## Entrenamos Baseline II"
   ]
  },
  {
   "cell_type": "markdown",
   "metadata": {},
   "source": [
    "Este Baseline va a predecir con datos de la día anterior"
   ]
  },
  {
   "cell_type": "code",
   "execution_count": 33,
   "metadata": {},
   "outputs": [],
   "source": [
    "import pandas as pd\n",
    "import numpy as np\n",
    "\n",
    "class BaselineModelPreviousDay:\n",
    "    \"\"\"\n",
    "    Prediction = actual demand observed in the last week\n",
    "    \"\"\"\n",
    "    def fit(self, X_train: pd.DataFrame, y_train: pd.Series):\n",
    "        pass\n",
    "    \n",
    "    def predict(self, X_test: pd.DataFrame) -> np.array:\n",
    "        \"\"\"\"\"\"\n",
    "        return X_test[f'rides_previous_24_hour']"
   ]
  },
  {
   "cell_type": "code",
   "execution_count": 34,
   "metadata": {},
   "outputs": [
    {
     "data": {
      "text/plain": [
       "0       12.0\n",
       "1        6.0\n",
       "2        0.0\n",
       "3        0.0\n",
       "4        0.0\n",
       "       ...  \n",
       "163    232.0\n",
       "164    192.0\n",
       "165    139.0\n",
       "166    183.0\n",
       "167    112.0\n",
       "Name: rides_previous_24_hour, Length: 168, dtype: float64"
      ]
     },
     "execution_count": 34,
     "metadata": {},
     "output_type": "execute_result"
    }
   ],
   "source": [
    "model_bs2 = BaselineModelPreviousDay()\n",
    "predictions = model_bs2.predict(X_test)\n",
    "predictions"
   ]
  },
  {
   "cell_type": "code",
   "execution_count": 35,
   "metadata": {},
   "outputs": [
    {
     "name": "stdout",
     "output_type": "stream",
     "text": [
      "test_mae=39.0893\n"
     ]
    }
   ],
   "source": [
    "# Evaluación del modelo\n",
    "from sklearn.metrics import mean_absolute_error\n",
    "\n",
    "test_mae = mean_absolute_error(y_test, predictions)\n",
    "print(f'{test_mae=:.4f}')"
   ]
  },
  {
   "cell_type": "markdown",
   "metadata": {},
   "source": [
    "## Baseline III"
   ]
  },
  {
   "cell_type": "markdown",
   "metadata": {},
   "source": [
    "Predecimos con datos de la semana anterior"
   ]
  },
  {
   "cell_type": "code",
   "execution_count": null,
   "metadata": {},
   "outputs": [],
   "source": [
    "import pandas as pd\n",
    "import numpy as np\n",
    "\n",
    "class BaselineModelPreviousWeek:\n",
    "    \"\"\"\n",
    "    Prediction = actual demand observed in the last week\n",
    "    \"\"\"\n",
    "    def fit(self, X_train: pd.DataFrame, y_train: pd.Series):\n",
    "        pass\n",
    "    \n",
    "    def predict(self, X_test: pd.DataFrame) -> np.array:\n",
    "        \"\"\"\"\"\"\n",
    "        return X_test[f'rides_previous_168_hour'] # 7 días * 24 horas"
   ]
  },
  {
   "cell_type": "code",
   "execution_count": 37,
   "metadata": {},
   "outputs": [
    {
     "data": {
      "text/plain": [
       "0       49.0\n",
       "1        2.0\n",
       "2        1.0\n",
       "3        0.0\n",
       "4        0.0\n",
       "       ...  \n",
       "163    270.0\n",
       "164    185.0\n",
       "165    183.0\n",
       "166    192.0\n",
       "167    157.0\n",
       "Name: rides_previous_168_hour, Length: 168, dtype: float64"
      ]
     },
     "execution_count": 37,
     "metadata": {},
     "output_type": "execute_result"
    }
   ],
   "source": [
    "model = BaselineModelPreviousWeek()\n",
    "predictions = model.predict(X_test)\n",
    "predictions"
   ]
  },
  {
   "cell_type": "code",
   "execution_count": 38,
   "metadata": {},
   "outputs": [
    {
     "name": "stdout",
     "output_type": "stream",
     "text": [
      "test_mae=24.6429\n"
     ]
    }
   ],
   "source": [
    "# Evaluación del modelo\n",
    "from sklearn.metrics import mean_absolute_error\n",
    "\n",
    "test_mae = mean_absolute_error(y_test, predictions)\n",
    "print(f'{test_mae=:.4f}')"
   ]
  },
  {
   "cell_type": "markdown",
   "metadata": {},
   "source": [
    "## Baseline Average"
   ]
  },
  {
   "cell_type": "code",
   "execution_count": 39,
   "metadata": {},
   "outputs": [],
   "source": [
    "import pandas as pd\n",
    "import numpy as np\n",
    "\n",
    "class BaselineModelAverage:\n",
    "    \"\"\"\n",
    "    Prediction = actual demand observed in the last week\n",
    "    \"\"\"\n",
    "    def fit(self, X_train: pd.DataFrame, y_train: pd.Series):\n",
    "        pass\n",
    "    \n",
    "    def predict(self, X_test: pd.DataFrame) -> np.array:\n",
    "        \"\"\"\"\"\"\n",
    "        return (X_test[f'rides_previous_168_hour'] + X_test[f'rides_previous_24_hour'] + X_test[f'rides_previous_1_hour'])/3 # 7 días * 24 horas"
   ]
  },
  {
   "cell_type": "code",
   "execution_count": 40,
   "metadata": {},
   "outputs": [
    {
     "data": {
      "text/plain": [
       "0       72.666667\n",
       "1       18.666667\n",
       "2        3.666667\n",
       "3        0.000000\n",
       "4        0.666667\n",
       "          ...    \n",
       "163    233.000000\n",
       "164    192.333333\n",
       "165    175.666667\n",
       "166    170.666667\n",
       "167    163.666667\n",
       "Length: 168, dtype: float64"
      ]
     },
     "execution_count": 40,
     "metadata": {},
     "output_type": "execute_result"
    }
   ],
   "source": [
    "model = BaselineModelAverage()\n",
    "predictions = model.predict(X_test)\n",
    "predictions"
   ]
  },
  {
   "cell_type": "code",
   "execution_count": 41,
   "metadata": {},
   "outputs": [
    {
     "name": "stdout",
     "output_type": "stream",
     "text": [
      "test_mae=24.1111\n"
     ]
    }
   ],
   "source": [
    "# Evaluación del modelo\n",
    "from sklearn.metrics import mean_absolute_error\n",
    "\n",
    "test_mae = mean_absolute_error(y_test, predictions)\n",
    "print(f'{test_mae=:.4f}')"
   ]
  }
 ],
 "metadata": {
  "kernelspec": {
   "display_name": ".venv",
   "language": "python",
   "name": "python3"
  },
  "language_info": {
   "codemirror_mode": {
    "name": "ipython",
    "version": 3
   },
   "file_extension": ".py",
   "mimetype": "text/x-python",
   "name": "python",
   "nbconvert_exporter": "python",
   "pygments_lexer": "ipython3",
   "version": "3.10.10"
  }
 },
 "nbformat": 4,
 "nbformat_minor": 2
}
