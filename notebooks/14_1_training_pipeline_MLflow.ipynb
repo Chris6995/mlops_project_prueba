{
 "cells": [
  {
   "cell_type": "code",
   "execution_count": 7,
   "id": "3add4553",
   "metadata": {},
   "outputs": [],
   "source": [
    "# # Configura el entorno de trabajo\n",
    "%reload_ext autoreload\n",
    "%autoreload 2"
   ]
  },
  {
   "cell_type": "code",
   "execution_count": 8,
   "id": "311fb89d",
   "metadata": {},
   "outputs": [],
   "source": [
    "import sys\n",
    "from pathlib import Path\n",
    "from datetime import datetime\n",
    "\n",
    "# Añade src al path\n",
    "sys.path.append(str(Path().resolve().parent / \"src\"))\n",
    "\n",
    "import config"
   ]
  },
  {
   "cell_type": "code",
   "execution_count": 9,
   "id": "dbfed264",
   "metadata": {},
   "outputs": [
    {
     "name": "stdout",
     "output_type": "stream",
     "text": [
      "2025-06-04 14:03:21,817 INFO: Initializing external client\n",
      "2025-06-04 14:03:21,818 INFO: Base URL: https://c.app.hopsworks.ai:443\n",
      "2025-06-04 14:03:23,093 INFO: Python Engine initialized.\n",
      "\n",
      "Logged in to project, explore it here https://c.app.hopsworks.ai:443/p/1224869\n"
     ]
    }
   ],
   "source": [
    "import hopsworks\n",
    "\n",
    "# Conecta a Hopsworks\n",
    "project = hopsworks.login(\n",
    "    project=config.HOPSWORKS_PROJECT_NAME,\n",
    "    api_key_value=config.HOPSWORKS_API_KEY\n",
    ")\n",
    "\n",
    "# Conecta a la API de Feature Store\n",
    "feature_store = project.get_feature_store()\n",
    "\n",
    "# Conecta al grupo de características\n",
    "feature_group = feature_store.get_feature_group(\n",
    "    name=config.FEATURE_GROUP_NAME,\n",
    "    version=config.FEATURE_GROUP_VERSION,\n",
    ")"
   ]
  },
  {
   "cell_type": "code",
   "execution_count": 10,
   "id": "218c299d",
   "metadata": {},
   "outputs": [
    {
     "name": "stdout",
     "output_type": "stream",
     "text": [
      "Feature view already existed. Skip creation.\n"
     ]
    }
   ],
   "source": [
    "# Crea una vista de características (si no existe ya)\n",
    "# Esta vista de características usa solo un grupo de características, por lo que la consulta es trivial\n",
    "try:\n",
    "    # Crea la vista de características si no existe\n",
    "    feature_store.create_feature_view(\n",
    "        name=config.FEATURE_VIEW_NAME,\n",
    "        version=config.FEATURE_VIEW_VERSION,\n",
    "        query=feature_group.select_all()\n",
    "    )\n",
    "except:\n",
    "    print('Feature view already existed. Skip creation.')"
   ]
  },
  {
   "cell_type": "code",
   "execution_count": 11,
   "id": "7260c6c3",
   "metadata": {},
   "outputs": [],
   "source": [
    "# obtenemos la vista de características\n",
    "feature_view = feature_store.get_feature_view(\n",
    "    name=config.FEATURE_VIEW_NAME,\n",
    "    version=config.FEATURE_VIEW_VERSION\n",
    ")"
   ]
  },
  {
   "cell_type": "code",
   "execution_count": 12,
   "id": "824b09fc",
   "metadata": {},
   "outputs": [
    {
     "name": "stdout",
     "output_type": "stream",
     "text": [
      "Finished: Reading data from Hopsworks, using Hopsworks Feature Query Service (131.34s) \n"
     ]
    },
    {
     "name": "stderr",
     "output_type": "stream",
     "text": [
      "VersionWarning: Incremented version to `7`.\n"
     ]
    }
   ],
   "source": [
    "# obtenemos la vista de características necesaria para el entrenamiento\n",
    "ts_data, _ = feature_view.training_data(\n",
    "    description='Time-series hourly taxi rides',\n",
    ")"
   ]
  },
  {
   "cell_type": "code",
   "execution_count": 13,
   "id": "eea5635b",
   "metadata": {},
   "outputs": [
    {
     "data": {
      "text/html": [
       "<div>\n",
       "<style scoped>\n",
       "    .dataframe tbody tr th:only-of-type {\n",
       "        vertical-align: middle;\n",
       "    }\n",
       "\n",
       "    .dataframe tbody tr th {\n",
       "        vertical-align: top;\n",
       "    }\n",
       "\n",
       "    .dataframe thead th {\n",
       "        text-align: right;\n",
       "    }\n",
       "</style>\n",
       "<table border=\"1\" class=\"dataframe\">\n",
       "  <thead>\n",
       "    <tr style=\"text-align: right;\">\n",
       "      <th></th>\n",
       "      <th>pickup_hour</th>\n",
       "      <th>pickup_location_id</th>\n",
       "      <th>rides</th>\n",
       "    </tr>\n",
       "  </thead>\n",
       "  <tbody>\n",
       "    <tr>\n",
       "      <th>0</th>\n",
       "      <td>2024-10-16 16:00:00+00:00</td>\n",
       "      <td>118</td>\n",
       "      <td>0</td>\n",
       "    </tr>\n",
       "    <tr>\n",
       "      <th>1</th>\n",
       "      <td>2024-06-30 06:00:00+00:00</td>\n",
       "      <td>226</td>\n",
       "      <td>9</td>\n",
       "    </tr>\n",
       "    <tr>\n",
       "      <th>2</th>\n",
       "      <td>2024-07-25 09:00:00+00:00</td>\n",
       "      <td>132</td>\n",
       "      <td>163</td>\n",
       "    </tr>\n",
       "    <tr>\n",
       "      <th>3</th>\n",
       "      <td>2024-06-15 16:00:00+00:00</td>\n",
       "      <td>138</td>\n",
       "      <td>163</td>\n",
       "    </tr>\n",
       "    <tr>\n",
       "      <th>4</th>\n",
       "      <td>2024-09-19 03:00:00+00:00</td>\n",
       "      <td>246</td>\n",
       "      <td>35</td>\n",
       "    </tr>\n",
       "  </tbody>\n",
       "</table>\n",
       "</div>"
      ],
      "text/plain": [
       "                 pickup_hour  pickup_location_id  rides\n",
       "0  2024-10-16 16:00:00+00:00                 118      0\n",
       "1  2024-06-30 06:00:00+00:00                 226      9\n",
       "2  2024-07-25 09:00:00+00:00                 132    163\n",
       "3  2024-06-15 16:00:00+00:00                 138    163\n",
       "4  2024-09-19 03:00:00+00:00                 246     35"
      ]
     },
     "execution_count": 13,
     "metadata": {},
     "output_type": "execute_result"
    }
   ],
   "source": [
    "ts_data.head()"
   ]
  },
  {
   "cell_type": "code",
   "execution_count": 14,
   "id": "7c2b4b75",
   "metadata": {},
   "outputs": [
    {
     "data": {
      "text/html": [
       "<div>\n",
       "<style scoped>\n",
       "    .dataframe tbody tr th:only-of-type {\n",
       "        vertical-align: middle;\n",
       "    }\n",
       "\n",
       "    .dataframe tbody tr th {\n",
       "        vertical-align: top;\n",
       "    }\n",
       "\n",
       "    .dataframe thead th {\n",
       "        text-align: right;\n",
       "    }\n",
       "</style>\n",
       "<table border=\"1\" class=\"dataframe\">\n",
       "  <thead>\n",
       "    <tr style=\"text-align: right;\">\n",
       "      <th></th>\n",
       "      <th>pickup_hour</th>\n",
       "      <th>pickup_location_id</th>\n",
       "      <th>rides</th>\n",
       "    </tr>\n",
       "  </thead>\n",
       "  <tbody>\n",
       "    <tr>\n",
       "      <th>count</th>\n",
       "      <td>2854812</td>\n",
       "      <td>2.854812e+06</td>\n",
       "      <td>2.854812e+06</td>\n",
       "    </tr>\n",
       "    <tr>\n",
       "      <th>mean</th>\n",
       "      <td>2024-08-16 14:10:23.051606784+00:00</td>\n",
       "      <td>1.332348e+02</td>\n",
       "      <td>1.805797e+01</td>\n",
       "    </tr>\n",
       "    <tr>\n",
       "      <th>min</th>\n",
       "      <td>2024-01-01 00:00:00+00:00</td>\n",
       "      <td>1.000000e+00</td>\n",
       "      <td>0.000000e+00</td>\n",
       "    </tr>\n",
       "    <tr>\n",
       "      <th>25%</th>\n",
       "      <td>2024-04-23 01:00:00+00:00</td>\n",
       "      <td>6.600000e+01</td>\n",
       "      <td>0.000000e+00</td>\n",
       "    </tr>\n",
       "    <tr>\n",
       "      <th>50%</th>\n",
       "      <td>2024-08-14 03:00:00+00:00</td>\n",
       "      <td>1.340000e+02</td>\n",
       "      <td>0.000000e+00</td>\n",
       "    </tr>\n",
       "    <tr>\n",
       "      <th>75%</th>\n",
       "      <td>2024-12-05 05:00:00+00:00</td>\n",
       "      <td>2.000000e+02</td>\n",
       "      <td>3.000000e+00</td>\n",
       "    </tr>\n",
       "    <tr>\n",
       "      <th>max</th>\n",
       "      <td>2025-05-08 16:00:00+00:00</td>\n",
       "      <td>2.650000e+02</td>\n",
       "      <td>1.239000e+03</td>\n",
       "    </tr>\n",
       "    <tr>\n",
       "      <th>std</th>\n",
       "      <td>NaN</td>\n",
       "      <td>7.674766e+01</td>\n",
       "      <td>5.519342e+01</td>\n",
       "    </tr>\n",
       "  </tbody>\n",
       "</table>\n",
       "</div>"
      ],
      "text/plain": [
       "                               pickup_hour  pickup_location_id         rides\n",
       "count                              2854812        2.854812e+06  2.854812e+06\n",
       "mean   2024-08-16 14:10:23.051606784+00:00        1.332348e+02  1.805797e+01\n",
       "min              2024-01-01 00:00:00+00:00        1.000000e+00  0.000000e+00\n",
       "25%              2024-04-23 01:00:00+00:00        6.600000e+01  0.000000e+00\n",
       "50%              2024-08-14 03:00:00+00:00        1.340000e+02  0.000000e+00\n",
       "75%              2024-12-05 05:00:00+00:00        2.000000e+02  3.000000e+00\n",
       "max              2025-05-08 16:00:00+00:00        2.650000e+02  1.239000e+03\n",
       "std                                    NaN        7.674766e+01  5.519342e+01"
      ]
     },
     "execution_count": 14,
     "metadata": {},
     "output_type": "execute_result"
    }
   ],
   "source": [
    "import pandas as pd\n",
    "\n",
    "ts_data['pickup_hour'] = pd.to_datetime(ts_data['pickup_hour'])\n",
    "\n",
    "ts_data.describe(include='all')"
   ]
  },
  {
   "cell_type": "code",
   "execution_count": null,
   "id": "6d48f09d",
   "metadata": {},
   "outputs": [
    {
     "name": "stderr",
     "output_type": "stream",
     "text": [
      "100%|██████████| 263/263 [00:10<00:00, 25.37it/s]"
     ]
    },
    {
     "name": "stdout",
     "output_type": "stream",
     "text": [
      "features_and_target.shape=(123875, 27)\n"
     ]
    },
    {
     "name": "stderr",
     "output_type": "stream",
     "text": [
      "\n"
     ]
    }
   ],
   "source": [
    "from data import transform_ts_data_into_features_and_target\n",
    "\n",
    "features, targets = transform_ts_data_into_features_and_target(\n",
    "    ts_data,\n",
    "    input_seq_len=24,\n",
    "    step_size=23,\n",
    ")\n",
    "\n",
    "features_and_target = features.copy()\n",
    "features_and_target['target_rides_next_hour'] = targets\n",
    "\n",
    "print(f'{features_and_target.shape=}')"
   ]
  },
  {
   "cell_type": "code",
   "execution_count": 16,
   "id": "60f79a6e",
   "metadata": {},
   "outputs": [],
   "source": [
    "import pandas as pd\n",
    "\n",
    "# Convertimos la columna de fecha y hora a un objeto datetime\n",
    "\n",
    "features_and_target['pickup_hour'] = pd.to_datetime(features_and_target['pickup_hour'])"
   ]
  },
  {
   "cell_type": "code",
   "execution_count": 17,
   "id": "32ed10cd",
   "metadata": {},
   "outputs": [
    {
     "name": "stdout",
     "output_type": "stream",
     "text": [
      "cutoff_date=Timestamp('2025-05-07 00:00:00+0000', tz='UTC')\n",
      "X_train.shape=(123621, 25)\n",
      "y_train.shape=(123621,)\n",
      "X_test.shape=(254, 25)\n",
      "y_test.shape=(254,)\n"
     ]
    }
   ],
   "source": [
    "from datetime import date, timedelta\n",
    "from pytz import timezone\n",
    "import pandas as pd\n",
    "from data_split import train_test_split\n",
    "\n",
    "# training data -> from January 2025 up until 2 months ago\n",
    "# test data -> last 2 months\n",
    "cutoff_date = pd.to_datetime(date.today() - timedelta(days=28*1), utc=True)\n",
    "\n",
    "print(f'{cutoff_date=}')\n",
    "\n",
    "X_train, y_train, X_test, y_test = train_test_split(\n",
    "    features_and_target,\n",
    "    cutoff_date,\n",
    "    target_column_name='target_rides_next_hour'   \n",
    ")\n",
    "\n",
    "\n",
    "# eliminamos la columna de fecha y hora\n",
    "X_train = X_train.drop(columns=['pickup_hour'])\n",
    "X_test = X_test.drop(columns=['pickup_hour'])\n",
    "\n",
    "print(f'{X_train.shape=}')\n",
    "print(f'{y_train.shape=}')\n",
    "print(f'{X_test.shape=}')\n",
    "print(f'{y_test.shape=}')"
   ]
  },
  {
   "cell_type": "code",
   "execution_count": 18,
   "id": "646efe59",
   "metadata": {},
   "outputs": [
    {
     "data": {
      "text/html": [
       "<div>\n",
       "<style scoped>\n",
       "    .dataframe tbody tr th:only-of-type {\n",
       "        vertical-align: middle;\n",
       "    }\n",
       "\n",
       "    .dataframe tbody tr th {\n",
       "        vertical-align: top;\n",
       "    }\n",
       "\n",
       "    .dataframe thead th {\n",
       "        text-align: right;\n",
       "    }\n",
       "</style>\n",
       "<table border=\"1\" class=\"dataframe\">\n",
       "  <thead>\n",
       "    <tr style=\"text-align: right;\">\n",
       "      <th></th>\n",
       "      <th>rides_previous_24_hour</th>\n",
       "      <th>rides_previous_23_hour</th>\n",
       "      <th>rides_previous_22_hour</th>\n",
       "      <th>rides_previous_21_hour</th>\n",
       "      <th>rides_previous_20_hour</th>\n",
       "      <th>rides_previous_19_hour</th>\n",
       "      <th>rides_previous_18_hour</th>\n",
       "      <th>rides_previous_17_hour</th>\n",
       "      <th>rides_previous_16_hour</th>\n",
       "      <th>rides_previous_15_hour</th>\n",
       "      <th>...</th>\n",
       "      <th>rides_previous_9_hour</th>\n",
       "      <th>rides_previous_8_hour</th>\n",
       "      <th>rides_previous_7_hour</th>\n",
       "      <th>rides_previous_6_hour</th>\n",
       "      <th>rides_previous_5_hour</th>\n",
       "      <th>rides_previous_4_hour</th>\n",
       "      <th>rides_previous_3_hour</th>\n",
       "      <th>rides_previous_2_hour</th>\n",
       "      <th>rides_previous_1_hour</th>\n",
       "      <th>pickup_location_id</th>\n",
       "    </tr>\n",
       "  </thead>\n",
       "  <tbody>\n",
       "    <tr>\n",
       "      <th>123616</th>\n",
       "      <td>0.0</td>\n",
       "      <td>3.0</td>\n",
       "      <td>0.0</td>\n",
       "      <td>1.0</td>\n",
       "      <td>0.0</td>\n",
       "      <td>1.0</td>\n",
       "      <td>2.0</td>\n",
       "      <td>3.0</td>\n",
       "      <td>0.0</td>\n",
       "      <td>2.0</td>\n",
       "      <td>...</td>\n",
       "      <td>2.0</td>\n",
       "      <td>2.0</td>\n",
       "      <td>1.0</td>\n",
       "      <td>1.0</td>\n",
       "      <td>0.0</td>\n",
       "      <td>2.0</td>\n",
       "      <td>0.0</td>\n",
       "      <td>0.0</td>\n",
       "      <td>2.0</td>\n",
       "      <td>129</td>\n",
       "    </tr>\n",
       "    <tr>\n",
       "      <th>123617</th>\n",
       "      <td>2.0</td>\n",
       "      <td>2.0</td>\n",
       "      <td>1.0</td>\n",
       "      <td>3.0</td>\n",
       "      <td>3.0</td>\n",
       "      <td>0.0</td>\n",
       "      <td>1.0</td>\n",
       "      <td>1.0</td>\n",
       "      <td>4.0</td>\n",
       "      <td>1.0</td>\n",
       "      <td>...</td>\n",
       "      <td>3.0</td>\n",
       "      <td>2.0</td>\n",
       "      <td>1.0</td>\n",
       "      <td>1.0</td>\n",
       "      <td>1.0</td>\n",
       "      <td>0.0</td>\n",
       "      <td>7.0</td>\n",
       "      <td>4.0</td>\n",
       "      <td>4.0</td>\n",
       "      <td>129</td>\n",
       "    </tr>\n",
       "    <tr>\n",
       "      <th>123618</th>\n",
       "      <td>4.0</td>\n",
       "      <td>3.0</td>\n",
       "      <td>1.0</td>\n",
       "      <td>2.0</td>\n",
       "      <td>10.0</td>\n",
       "      <td>9.0</td>\n",
       "      <td>3.0</td>\n",
       "      <td>0.0</td>\n",
       "      <td>4.0</td>\n",
       "      <td>2.0</td>\n",
       "      <td>...</td>\n",
       "      <td>2.0</td>\n",
       "      <td>2.0</td>\n",
       "      <td>2.0</td>\n",
       "      <td>1.0</td>\n",
       "      <td>1.0</td>\n",
       "      <td>1.0</td>\n",
       "      <td>3.0</td>\n",
       "      <td>0.0</td>\n",
       "      <td>3.0</td>\n",
       "      <td>129</td>\n",
       "    </tr>\n",
       "    <tr>\n",
       "      <th>123619</th>\n",
       "      <td>3.0</td>\n",
       "      <td>3.0</td>\n",
       "      <td>4.0</td>\n",
       "      <td>0.0</td>\n",
       "      <td>1.0</td>\n",
       "      <td>2.0</td>\n",
       "      <td>5.0</td>\n",
       "      <td>2.0</td>\n",
       "      <td>1.0</td>\n",
       "      <td>3.0</td>\n",
       "      <td>...</td>\n",
       "      <td>2.0</td>\n",
       "      <td>2.0</td>\n",
       "      <td>2.0</td>\n",
       "      <td>1.0</td>\n",
       "      <td>2.0</td>\n",
       "      <td>1.0</td>\n",
       "      <td>0.0</td>\n",
       "      <td>1.0</td>\n",
       "      <td>3.0</td>\n",
       "      <td>129</td>\n",
       "    </tr>\n",
       "    <tr>\n",
       "      <th>123620</th>\n",
       "      <td>3.0</td>\n",
       "      <td>4.0</td>\n",
       "      <td>1.0</td>\n",
       "      <td>3.0</td>\n",
       "      <td>1.0</td>\n",
       "      <td>0.0</td>\n",
       "      <td>0.0</td>\n",
       "      <td>0.0</td>\n",
       "      <td>0.0</td>\n",
       "      <td>2.0</td>\n",
       "      <td>...</td>\n",
       "      <td>2.0</td>\n",
       "      <td>2.0</td>\n",
       "      <td>5.0</td>\n",
       "      <td>5.0</td>\n",
       "      <td>2.0</td>\n",
       "      <td>0.0</td>\n",
       "      <td>1.0</td>\n",
       "      <td>1.0</td>\n",
       "      <td>0.0</td>\n",
       "      <td>129</td>\n",
       "    </tr>\n",
       "  </tbody>\n",
       "</table>\n",
       "<p>5 rows × 25 columns</p>\n",
       "</div>"
      ],
      "text/plain": [
       "        rides_previous_24_hour  rides_previous_23_hour  \\\n",
       "123616                     0.0                     3.0   \n",
       "123617                     2.0                     2.0   \n",
       "123618                     4.0                     3.0   \n",
       "123619                     3.0                     3.0   \n",
       "123620                     3.0                     4.0   \n",
       "\n",
       "        rides_previous_22_hour  rides_previous_21_hour  \\\n",
       "123616                     0.0                     1.0   \n",
       "123617                     1.0                     3.0   \n",
       "123618                     1.0                     2.0   \n",
       "123619                     4.0                     0.0   \n",
       "123620                     1.0                     3.0   \n",
       "\n",
       "        rides_previous_20_hour  rides_previous_19_hour  \\\n",
       "123616                     0.0                     1.0   \n",
       "123617                     3.0                     0.0   \n",
       "123618                    10.0                     9.0   \n",
       "123619                     1.0                     2.0   \n",
       "123620                     1.0                     0.0   \n",
       "\n",
       "        rides_previous_18_hour  rides_previous_17_hour  \\\n",
       "123616                     2.0                     3.0   \n",
       "123617                     1.0                     1.0   \n",
       "123618                     3.0                     0.0   \n",
       "123619                     5.0                     2.0   \n",
       "123620                     0.0                     0.0   \n",
       "\n",
       "        rides_previous_16_hour  rides_previous_15_hour  ...  \\\n",
       "123616                     0.0                     2.0  ...   \n",
       "123617                     4.0                     1.0  ...   \n",
       "123618                     4.0                     2.0  ...   \n",
       "123619                     1.0                     3.0  ...   \n",
       "123620                     0.0                     2.0  ...   \n",
       "\n",
       "        rides_previous_9_hour  rides_previous_8_hour  rides_previous_7_hour  \\\n",
       "123616                    2.0                    2.0                    1.0   \n",
       "123617                    3.0                    2.0                    1.0   \n",
       "123618                    2.0                    2.0                    2.0   \n",
       "123619                    2.0                    2.0                    2.0   \n",
       "123620                    2.0                    2.0                    5.0   \n",
       "\n",
       "        rides_previous_6_hour  rides_previous_5_hour  rides_previous_4_hour  \\\n",
       "123616                    1.0                    0.0                    2.0   \n",
       "123617                    1.0                    1.0                    0.0   \n",
       "123618                    1.0                    1.0                    1.0   \n",
       "123619                    1.0                    2.0                    1.0   \n",
       "123620                    5.0                    2.0                    0.0   \n",
       "\n",
       "        rides_previous_3_hour  rides_previous_2_hour  rides_previous_1_hour  \\\n",
       "123616                    0.0                    0.0                    2.0   \n",
       "123617                    7.0                    4.0                    4.0   \n",
       "123618                    3.0                    0.0                    3.0   \n",
       "123619                    0.0                    1.0                    3.0   \n",
       "123620                    1.0                    1.0                    0.0   \n",
       "\n",
       "        pickup_location_id  \n",
       "123616                 129  \n",
       "123617                 129  \n",
       "123618                 129  \n",
       "123619                 129  \n",
       "123620                 129  \n",
       "\n",
       "[5 rows x 25 columns]"
      ]
     },
     "execution_count": 18,
     "metadata": {},
     "output_type": "execute_result"
    }
   ],
   "source": [
    "X_train.tail()"
   ]
  },
  {
   "cell_type": "code",
   "execution_count": 19,
   "id": "8de9744b",
   "metadata": {},
   "outputs": [
    {
     "data": {
      "text/plain": [
       "123616    2.0\n",
       "123617    3.0\n",
       "123618    3.0\n",
       "123619    4.0\n",
       "123620    1.0\n",
       "Name: target_rides_next_hour, dtype: float32"
      ]
     },
     "execution_count": 19,
     "metadata": {},
     "output_type": "execute_result"
    }
   ],
   "source": [
    "y_train.tail()"
   ]
  },
  {
   "cell_type": "code",
   "execution_count": 25,
   "id": "275bbb83",
   "metadata": {},
   "outputs": [],
   "source": [
    "from sklearn.linear_model import LinearRegression\n",
    "from sklearn.ensemble import RandomForestRegressor, GradientBoostingRegressor\n",
    "from sklearn.tree import DecisionTreeRegressor\n",
    "# from sklearn.neighbors import KNeighborsRegressor\n",
    "# from sklearn.svm import SVR\n",
    "from sklearn.linear_model import Ridge, Lasso, ElasticNet\n",
    "# from xgboost import XGBRegressor\n",
    "# from lightgbm import LGBMRegressor\n",
    "from sklearn.metrics import mean_absolute_error, r2_score, mean_squared_error\n",
    "# Importamos mlflow para el seguimiento de experimentos\n",
    "import mlflow\n",
    "import mlflow.sklearn\n",
    "\n",
    "# Importamos la configuración de logging\n",
    "import logging\n",
    "\n",
    "logging.basicConfig(level=logging.WARN)\n",
    "logger = logging.getLogger(__name__)"
   ]
  },
  {
   "cell_type": "code",
   "execution_count": 24,
   "id": "62183967",
   "metadata": {},
   "outputs": [
    {
     "name": "stderr",
     "output_type": "stream",
     "text": [
      "2025/06/04 14:14:47 INFO mlflow.tracking.fluent: Experiment with name 'TaxiDemandRegression' does not exist. Creating a new experiment.\n"
     ]
    },
    {
     "data": {
      "text/plain": [
       "<Experiment: artifact_location='/Users/cdonairem/Documents/Workspace/proyecto_mlops_prueba_poetry/notebooks/mlruns/593164492010380515', creation_time=1749039287979, experiment_id='593164492010380515', last_update_time=1749039287979, lifecycle_stage='active', name='TaxiDemandRegression', tags={}>"
      ]
     },
     "execution_count": 24,
     "metadata": {},
     "output_type": "execute_result"
    }
   ],
   "source": [
    "# Configuración de MLflow\n",
    "mlflow.set_tracking_uri(\"mlruns\")  # En local, cambia si usas server\n",
    "mlflow.set_experiment(\"TaxiDemandRegression\")"
   ]
  },
  {
   "cell_type": "code",
   "execution_count": 27,
   "id": "626023a1",
   "metadata": {},
   "outputs": [
    {
     "name": "stderr",
     "output_type": "stream",
     "text": [
      "\u001b[31m2025/06/04 14:23:03 WARNING mlflow.models.model: Model logged without a signature and input example. Please set `input_example` parameter when logging the model to auto infer the model signature.\u001b[0m\n"
     ]
    },
    {
     "name": "stdout",
     "output_type": "stream",
     "text": [
      "LinearRegression -> MSE: 84.2003, R2: 0.9857\n"
     ]
    }
   ],
   "source": [
    "# Definimos los modelos a entrenar\n",
    "with mlflow.start_run(run_name=\"LinearRegression\"):\n",
    "    # Entrenamos el modelo\n",
    "    model = LinearRegression()\n",
    "    model.fit(X_train, y_train)\n",
    "    # Realizamos predicciones\n",
    "    y_pred = model.predict(X_test)\n",
    "\n",
    "    # Calcular métricas\n",
    "    mse = mean_squared_error(y_test, y_pred)\n",
    "    mae = mean_absolute_error(y_test, y_pred)\n",
    "    r2 = r2_score(y_test, y_pred)\n",
    "\n",
    "    # Log de los parámetros\n",
    "    mlflow.log_param(\"model\", \"LinearRegression\")\n",
    "    mlflow.log_params(model.get_params())  # coeficiente y intercepto\n",
    "    # Log de las métricas\n",
    "    mlflow.log_metric(\"mse\", mse)\n",
    "    mlflow.log_metric(\"mae\", mae)\n",
    "    mlflow.log_metric(\"r2\", r2)\n",
    "    # Log del modelo\n",
    "    mlflow.sklearn.log_model(model, \"model\")\n",
    "    # Imprimir resultados\n",
    "    print(f\"LinearRegression -> MSE: {mse:.4f}, R2: {r2:.4f}\")"
   ]
  },
  {
   "cell_type": "code",
   "execution_count": 26,
   "id": "9ca2e3ca",
   "metadata": {},
   "outputs": [],
   "source": [
    "# Definimos los modelos a entrenar\n",
    "models = {\n",
    "\n",
    "    \"LinearRegression\": LinearRegression(),\n",
    "    \"Ridge\": Ridge(alpha=1.0),\n",
    "    \"Lasso\": Lasso(alpha=0.1),\n",
    "    \"RandomForest\": RandomForestRegressor(n_estimators=100),\n",
    "    \"GradientBoosting\": GradientBoostingRegressor(n_estimators=100)\n",
    "}"
   ]
  },
  {
   "cell_type": "code",
   "execution_count": 41,
   "id": "43744cbe",
   "metadata": {},
   "outputs": [
    {
     "name": "stderr",
     "output_type": "stream",
     "text": [
      "\u001b[31m2025/06/04 19:03:58 WARNING mlflow.models.model: Model logged without a signature and input example. Please set `input_example` parameter when logging the model to auto infer the model signature.\u001b[0m\n"
     ]
    },
    {
     "name": "stdout",
     "output_type": "stream",
     "text": [
      "2025-06-04 19:03:58,948 INFO: Modelo: LinearRegression, MAE: 3.5303730737216292, MSE: 84.20030508054398, R2: 0.9857374568656027\n"
     ]
    },
    {
     "name": "stderr",
     "output_type": "stream",
     "text": [
      "\u001b[31m2025/06/04 19:04:01 WARNING mlflow.models.model: Model logged without a signature and input example. Please set `input_example` parameter when logging the model to auto infer the model signature.\u001b[0m\n"
     ]
    },
    {
     "name": "stdout",
     "output_type": "stream",
     "text": [
      "2025-06-04 19:04:01,553 INFO: Modelo: Ridge, MAE: 3.530372952620165, MSE: 84.20029799130599, R2: 0.9857374580664364\n"
     ]
    },
    {
     "name": "stderr",
     "output_type": "stream",
     "text": [
      "\u001b[31m2025/06/04 19:04:04 WARNING mlflow.models.model: Model logged without a signature and input example. Please set `input_example` parameter when logging the model to auto infer the model signature.\u001b[0m\n"
     ]
    },
    {
     "name": "stdout",
     "output_type": "stream",
     "text": [
      "2025-06-04 19:04:04,960 INFO: Modelo: Lasso, MAE: 3.5251848695430557, MSE: 83.85928341670531, R2: 0.9857952219317222\n"
     ]
    },
    {
     "name": "stderr",
     "output_type": "stream",
     "text": [
      "\u001b[31m2025/06/04 19:05:40 WARNING mlflow.models.model: Model logged without a signature and input example. Please set `input_example` parameter when logging the model to auto infer the model signature.\u001b[0m\n"
     ]
    },
    {
     "name": "stdout",
     "output_type": "stream",
     "text": [
      "2025-06-04 19:05:41,240 INFO: Modelo: RandomForest, MAE: 3.425621883563887, MSE: 64.75600756516121, R2: 0.9890310925806505\n"
     ]
    },
    {
     "name": "stderr",
     "output_type": "stream",
     "text": [
      "\u001b[31m2025/06/04 19:06:03 WARNING mlflow.models.model: Model logged without a signature and input example. Please set `input_example` parameter when logging the model to auto infer the model signature.\u001b[0m\n"
     ]
    },
    {
     "name": "stdout",
     "output_type": "stream",
     "text": [
      "2025-06-04 19:06:03,212 INFO: Modelo: GradientBoosting, MAE: 3.241406311311049, MSE: 61.69710361230693, R2: 0.9895492349974723\n"
     ]
    }
   ],
   "source": [
    "# Entrenamos y evaluamos varios modelos a la vez\n",
    "for model_name, model in models.items():\n",
    "    with mlflow.start_run(run_name=model_name):\n",
    "        # Entrenamos el modelo\n",
    "        model.fit(X_train, y_train)\n",
    "\n",
    "        # Hacemos predicciones\n",
    "        y_pred = model.predict(X_test)\n",
    "\n",
    "        # Calculamos las métricas\n",
    "        mae = mean_absolute_error(y_test, y_pred)\n",
    "        mse = mean_squared_error(y_test, y_pred)\n",
    "        r2 = r2_score(y_test, y_pred)\n",
    "\n",
    "        # Registramos las métricas en MLflow\n",
    "        mlflow.log_metric(\"mae\", mae)\n",
    "        mlflow.log_metric(\"mse\", mse)\n",
    "        mlflow.log_metric(\"r2\", r2)\n",
    "\n",
    "        mlflow.log_param(\"model\", model_name)\n",
    "        mlflow.log_params(model.get_params())\n",
    "\n",
    "        # Registramos el modelo\n",
    "        mlflow.sklearn.log_model(model, \"model\")\n",
    "\n",
    "        logger.info(f\"Modelo: {model_name}, MAE: {mae}, MSE: {mse}, R2: {r2}\")"
   ]
  },
  {
   "cell_type": "code",
   "execution_count": null,
   "id": "b1449ab4",
   "metadata": {},
   "outputs": [
    {
     "name": "stderr",
     "output_type": "stream",
     "text": [
      "Successfully registered model 'LinearRegressionTaxiDemandModel'.\n",
      "Created version '1' of model 'LinearRegressionTaxiDemandModel'.\n"
     ]
    },
    {
     "data": {
      "text/plain": [
       "<ModelVersion: aliases=[], creation_timestamp=1749057066804, current_stage='None', description=None, last_updated_timestamp=1749057066804, name='LinearRegressionTaxiDemandModel', run_id='e87d7ea6defe43b489412f939aca9b12', run_link=None, source='/Users/cdonairem/Documents/Workspace/proyecto_mlops_prueba_poetry/notebooks/mlruns/593164492010380515/e87d7ea6defe43b489412f939aca9b12/artifacts/model', status='READY', status_message=None, tags={}, user_id=None, version=1>"
      ]
     },
     "execution_count": 42,
     "metadata": {},
     "output_type": "execute_result"
    }
   ],
   "source": [
    "# Registramos el mejor modelo\n",
    "# ID del run del mejor modelo (puedes copiarlo de la UI)\n",
    "run_id = \"e87d7ea6defe43b489412f939aca9b12\"\n",
    "\n",
    "model_uri = f\"runs:/{run_id}/model\"\n",
    "\n",
    "mlflow.register_model(\n",
    "    model_uri=model_uri,\n",
    "    name=\"LinearRegressionTaxiDemandModel\"\n",
    ")"
   ]
  },
  {
   "cell_type": "code",
   "execution_count": null,
   "id": "e7782e14",
   "metadata": {},
   "outputs": [
    {
     "name": "stdout",
     "output_type": "stream",
     "text": [
      "[3.44747865e-01 1.37398487e+00 3.87506173e+02 2.46117381e+02\n",
      " 1.60363092e+02 6.05339171e-01 4.09739212e-01 3.44747865e-01\n",
      " 4.73903090e-01 3.44747865e-01 3.44747865e-01 2.97888592e+02\n",
      " 2.89306417e+01 2.51187411e+00 1.82164855e+01 4.17793967e-01\n",
      " 1.86716135e+00 4.09739212e-01 4.09739212e-01 4.78712884e+01\n",
      " 3.44747865e-01 3.44747865e-01 4.17793967e-01 2.85056466e+02\n",
      " 1.19620678e+00 4.17793967e-01 9.63279975e+01 9.74698404e+01\n",
      " 2.05302928e+00 4.73903090e-01 4.73903090e-01 5.63322799e+02\n",
      " 3.44747865e-01 4.04844811e-01 3.44747865e-01 3.44747865e-01\n",
      " 4.06361386e-01 5.34000036e-01 5.84936163e-01 3.44747865e-01\n",
      " 1.05610740e+00 9.78306584e+01 3.44747865e-01 3.44747865e-01\n",
      " 3.44747865e-01 3.44747865e-01 5.38894437e-01 5.16209400e-01\n",
      " 4.60300319e+01 3.44747865e-01 4.17793967e-01 3.44747865e-01\n",
      " 3.44747865e-01 5.43725650e-01 1.24239086e+01 3.44747865e-01\n",
      " 4.82785314e-01 3.44747865e-01 4.11131899e+02 3.44747865e-01\n",
      " 9.91270339e-01 3.44747865e-01 9.42520079e+01 3.44747865e-01\n",
      " 2.62833685e+01 3.44747865e-01 3.44747865e-01 3.44747865e-01\n",
      " 1.21944965e+02 4.79407487e-01 2.54327293e+00 8.79314952e-01\n",
      " 1.46258425e+02 4.17793967e-01 2.78269486e+02 3.44747865e-01\n",
      " 1.86461946e+02 3.44747865e-01 2.02749998e+02 2.60252888e+02\n",
      " 3.44747865e-01 4.09739212e-01 3.44747865e-01 3.44747865e-01\n",
      " 5.89063332e+00 3.44747865e-01 3.44747865e-01 1.21684789e+00\n",
      " 3.44747865e-01 8.79314952e-01 3.44747865e-01 1.06516707e+02\n",
      " 1.00591982e+00 1.04315825e+00 8.34987907e+00 3.44747865e-01\n",
      " 4.17793967e-01 4.17793967e-01 1.41479609e+00 6.49352448e-01\n",
      " 3.44747865e-01 3.44747865e-01 4.04844811e-01 4.04844811e-01\n",
      " 7.10965968e-01 4.82785314e-01 5.43725650e-01 4.77890913e-01\n",
      " 7.46952131e+01 4.31232891e+01 2.29744757e+02 3.44747865e-01\n",
      " 3.44747865e-01 2.30451908e+00 1.47785196e+00 4.73903090e-01\n",
      " 1.34234617e+02 4.73903090e-01 3.44747865e-01 4.73903090e-01\n",
      " 4.06361386e-01 5.16209400e-01 3.44747865e-01 1.17211001e+02\n",
      " 5.46949192e-01 7.01388175e+01 3.44747865e-01 4.77532608e+01\n",
      " 1.18638465e+02 3.44747865e-01 3.44747865e-01 3.44747865e-01\n",
      " 3.44747865e-01 3.44747865e-01 3.44747865e-01 2.60702333e+02\n",
      " 3.44747865e-01 3.07349419e+01 4.17793967e-01 1.76298884e+01\n",
      " 3.44747865e-01 3.44747865e-01 6.05339171e-01 5.84936163e-01\n",
      " 1.13871294e+00 3.44747865e-01 3.44747865e-01 3.44747865e-01\n",
      " 1.22304425e+02 4.73903090e-01 3.44747865e-01 3.44747865e-01\n",
      " 3.44747865e-01 6.92239861e+01 4.17793967e-01 8.00109205e-01\n",
      " 3.44747865e-01 3.44747865e-01 5.46949192e-01 3.32997860e+00\n",
      " 3.44747865e-01 4.04844811e-01 3.44747865e-01 3.44747865e-01\n",
      " 5.79511942e+01 4.73903090e-01 3.93977489e+00 1.91511134e+00\n",
      " 5.43725650e-01 1.13829635e+02 4.17793967e-01 3.38903997e+00\n",
      " 4.17793967e-01 6.80173432e-01 3.44747865e-01 3.44747865e-01\n",
      " 3.44747865e-01 3.44747865e-01 2.10933884e+01 1.60437253e+02\n",
      " 3.44747865e-01 3.44747865e-01 3.44747865e-01 8.57713420e-01\n",
      " 1.78741976e+02 7.15187185e-01 3.44747865e-01 6.03822596e-01\n",
      " 3.44747865e-01 3.44747865e-01 1.24316272e+00 3.44747865e-01\n",
      " 7.52985050e+01 4.09739212e-01 3.44747865e-01 4.17793967e-01\n",
      " 4.17793967e-01 5.51962603e+01 3.44747865e-01 1.32725491e+02\n",
      " 4.17793967e-01 4.17793967e-01 4.17793967e-01 5.77564792e+00\n",
      " 4.71352733e-01 8.00109205e-01 3.44747865e-01 4.82785314e-01\n",
      " 4.06361386e-01 2.01854912e+00 4.17793967e-01 3.44747865e-01\n",
      " 4.82785314e-01 3.30394274e+01 1.24316272e+00 3.44747865e-01\n",
      " 2.03271874e+02 6.42478960e+01 5.43725650e-01 5.52135757e+01\n",
      " 3.44747865e-01 6.08716997e-01 6.11940539e-01 3.44747865e-01\n",
      " 3.44747865e-01 3.44747865e-01 1.47785196e+00 4.09739212e-01\n",
      " 5.73703244e-01 3.44747865e-01 4.73903090e-01 8.81629990e+00\n",
      " 3.44747865e-01 1.44857011e+00 4.06361386e-01 3.44747865e-01\n",
      " 1.26722919e+01 3.44747865e-01 4.73903090e-01 1.44122842e+02\n",
      " 2.79758924e+02 5.46949192e-01 3.44747865e-01 4.17793967e-01\n",
      " 4.73903090e-01 1.62645545e+00 1.66256526e+02 3.44747865e-01\n",
      " 4.73903090e-01 5.43725650e-01 3.44747865e-01 5.46949192e-01\n",
      " 3.44747865e-01 9.26714072e-01]\n",
      "Evaluación del modelo cargado -> MSE: 61.6971, R2: 0.9895, MAE: 3.2414\n"
     ]
    },
    {
     "ename": "MlflowException",
     "evalue": "Path 'gradient_boosting_taxi_demand_model.pkl' already exists and is not empty",
     "output_type": "error",
     "traceback": [
      "\u001b[0;31m---------------------------------------------------------------------------\u001b[0m",
      "\u001b[0;31mMlflowException\u001b[0m                           Traceback (most recent call last)",
      "Cell \u001b[0;32mIn[39], line 20\u001b[0m\n\u001b[1;32m     18\u001b[0m \u001b[38;5;66;03m# Guardamos el modelo en un archivo\u001b[39;00m\n\u001b[1;32m     19\u001b[0m model_path \u001b[38;5;241m=\u001b[39m \u001b[38;5;124m\"\u001b[39m\u001b[38;5;124mgradient_boosting_taxi_demand_model.pkl\u001b[39m\u001b[38;5;124m\"\u001b[39m\n\u001b[0;32m---> 20\u001b[0m \u001b[43mmlflow\u001b[49m\u001b[38;5;241;43m.\u001b[39;49m\u001b[43msklearn\u001b[49m\u001b[38;5;241;43m.\u001b[39;49m\u001b[43msave_model\u001b[49m\u001b[43m(\u001b[49m\u001b[43mmodel\u001b[49m\u001b[43m,\u001b[49m\u001b[43m \u001b[49m\u001b[43mmodel_path\u001b[49m\u001b[43m)\u001b[49m\n\u001b[1;32m     22\u001b[0m predictions\n",
      "File \u001b[0;32m~/Documents/Workspace/proyecto_mlops_prueba_poetry/.venv/lib/python3.10/site-packages/mlflow/sklearn/__init__.py:245\u001b[0m, in \u001b[0;36msave_model\u001b[0;34m(sk_model, path, conda_env, code_paths, mlflow_model, serialization_format, signature, input_example, pip_requirements, extra_pip_requirements, pyfunc_predict_fn, metadata)\u001b[0m\n\u001b[1;32m    236\u001b[0m \u001b[38;5;28;01mif\u001b[39;00m serialization_format \u001b[38;5;129;01mnot\u001b[39;00m \u001b[38;5;129;01min\u001b[39;00m SUPPORTED_SERIALIZATION_FORMATS:\n\u001b[1;32m    237\u001b[0m     \u001b[38;5;28;01mraise\u001b[39;00m MlflowException(\n\u001b[1;32m    238\u001b[0m         message\u001b[38;5;241m=\u001b[39m(\n\u001b[1;32m    239\u001b[0m             \u001b[38;5;124mf\u001b[39m\u001b[38;5;124m\"\u001b[39m\u001b[38;5;124mUnrecognized serialization format: \u001b[39m\u001b[38;5;132;01m{\u001b[39;00mserialization_format\u001b[38;5;132;01m}\u001b[39;00m\u001b[38;5;124m. Please specify one\u001b[39m\u001b[38;5;124m\"\u001b[39m\n\u001b[0;32m   (...)\u001b[0m\n\u001b[1;32m    242\u001b[0m         error_code\u001b[38;5;241m=\u001b[39mINVALID_PARAMETER_VALUE,\n\u001b[1;32m    243\u001b[0m     )\n\u001b[0;32m--> 245\u001b[0m \u001b[43m_validate_and_prepare_target_save_path\u001b[49m\u001b[43m(\u001b[49m\u001b[43mpath\u001b[49m\u001b[43m)\u001b[49m\n\u001b[1;32m    246\u001b[0m code_path_subdir \u001b[38;5;241m=\u001b[39m _validate_and_copy_code_paths(code_paths, path)\n\u001b[1;32m    248\u001b[0m \u001b[38;5;28;01mif\u001b[39;00m mlflow_model \u001b[38;5;129;01mis\u001b[39;00m \u001b[38;5;28;01mNone\u001b[39;00m:\n",
      "File \u001b[0;32m~/Documents/Workspace/proyecto_mlops_prueba_poetry/.venv/lib/python3.10/site-packages/mlflow/utils/model_utils.py:268\u001b[0m, in \u001b[0;36m_validate_and_prepare_target_save_path\u001b[0;34m(path)\u001b[0m\n\u001b[1;32m    266\u001b[0m \u001b[38;5;28;01mdef\u001b[39;00m\u001b[38;5;250m \u001b[39m\u001b[38;5;21m_validate_and_prepare_target_save_path\u001b[39m(path):\n\u001b[1;32m    267\u001b[0m     \u001b[38;5;28;01mif\u001b[39;00m os\u001b[38;5;241m.\u001b[39mpath\u001b[38;5;241m.\u001b[39mexists(path) \u001b[38;5;129;01mand\u001b[39;00m \u001b[38;5;28many\u001b[39m(os\u001b[38;5;241m.\u001b[39mscandir(path)):\n\u001b[0;32m--> 268\u001b[0m         \u001b[38;5;28;01mraise\u001b[39;00m MlflowException(\n\u001b[1;32m    269\u001b[0m             message\u001b[38;5;241m=\u001b[39m\u001b[38;5;124mf\u001b[39m\u001b[38;5;124m\"\u001b[39m\u001b[38;5;124mPath \u001b[39m\u001b[38;5;124m'\u001b[39m\u001b[38;5;132;01m{\u001b[39;00mpath\u001b[38;5;132;01m}\u001b[39;00m\u001b[38;5;124m'\u001b[39m\u001b[38;5;124m already exists and is not empty\u001b[39m\u001b[38;5;124m\"\u001b[39m,\n\u001b[1;32m    270\u001b[0m             error_code\u001b[38;5;241m=\u001b[39mRESOURCE_ALREADY_EXISTS,\n\u001b[1;32m    271\u001b[0m         )\n\u001b[1;32m    273\u001b[0m     os\u001b[38;5;241m.\u001b[39mmakedirs(path, exist_ok\u001b[38;5;241m=\u001b[39m\u001b[38;5;28;01mTrue\u001b[39;00m)\n",
      "\u001b[0;31mMlflowException\u001b[0m: Path 'gradient_boosting_taxi_demand_model.pkl' already exists and is not empty"
     ]
    }
   ],
   "source": [
    "# Cargamos el modelo registrado\n",
    "from mlflow.tracking import MlflowClient\n",
    "\n",
    "# Cargamos el modelo registrado por su nombre y versión\n",
    "client = MlflowClient()\n",
    "model_name = \"GradientBoostingTaxiDemandModel\"\n",
    "model_version = 1  # Cambia según la versión que quieras cargar\n",
    "model = mlflow.pyfunc.load_model(f\"models:/{model_name}/{model_version}\")\n",
    "\n",
    "# Realizamos una predicción con el modelo cargado\n",
    "sample_data = X_test\n",
    "predictions = model.predict(sample_data)\n",
    "print(predictions)\n",
    "\n",
    "# Evaluamos el modelo cargado\n",
    "y_pred = model.predict(X_test)\n",
    "mse = mean_squared_error(y_test, y_pred)\n",
    "mae = mean_absolute_error(y_test, y_pred)\n",
    "r2 = r2_score(y_test, y_pred)\n",
    "print(f\"Evaluación del modelo cargado -> MSE: {mse:.4f}, R2: {r2:.4f}, MAE: {mae:.4f}\")\n",
    "\n",
    "# Guardamos el modelo en un archivo\n",
    "model_path = \"gradient_boosting_taxi_demand_model.pkl\"\n",
    "mlflow.sklearn.save_model(model, model_path)\n"
   ]
  }
 ],
 "metadata": {
  "kernelspec": {
   "display_name": ".venv",
   "language": "python",
   "name": "python3"
  },
  "language_info": {
   "codemirror_mode": {
    "name": "ipython",
    "version": 3
   },
   "file_extension": ".py",
   "mimetype": "text/x-python",
   "name": "python",
   "nbconvert_exporter": "python",
   "pygments_lexer": "ipython3",
   "version": "3.10.10"
  }
 },
 "nbformat": 4,
 "nbformat_minor": 5
}
