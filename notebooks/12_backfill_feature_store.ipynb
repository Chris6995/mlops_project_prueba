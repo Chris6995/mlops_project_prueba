{
 "cells": [
  {
   "cell_type": "code",
   "execution_count": 2,
   "id": "c6fded3c",
   "metadata": {},
   "outputs": [],
   "source": [
    "import sys\n",
    "from pathlib import Path\n",
    "from datetime import datetime\n",
    "\n",
    "# Añade src al path\n",
    "sys.path.append(str(Path().resolve().parent / \"src\"))"
   ]
  },
  {
   "cell_type": "code",
   "execution_count": 3,
   "id": "0a52b1d7",
   "metadata": {},
   "outputs": [],
   "source": [
    "# Configura el entorno de trabajo\n",
    "%reload_ext autoreload\n",
    "%autoreload 2"
   ]
  },
  {
   "cell_type": "code",
   "execution_count": 4,
   "id": "8460123f",
   "metadata": {},
   "outputs": [
    {
     "name": "stdout",
     "output_type": "stream",
     "text": [
      "Downloading raw data from 2024 to 2025\n",
      "File 2024-01 was already in local storage\n",
      "File 2024-02 was already in local storage\n",
      "File 2024-03 was already in local storage\n",
      "File 2024-04 was already in local storage\n",
      "File 2024-05 was already in local storage\n",
      "File 2024-06 was already in local storage\n",
      "File 2024-07 was already in local storage\n",
      "File 2024-08 was already in local storage\n",
      "File 2024-09 was already in local storage\n",
      "File 2024-10 was already in local storage\n",
      "File 2024-11 was already in local storage\n",
      "File 2024-12 was already in local storage\n",
      "File 2025-01 was already in local storage\n",
      "File 2025-02 was already in local storage\n",
      "Downloading file 2025-03\n",
      "2025-03 file is not available\n",
      "Downloading file 2025-04\n",
      "2025-04 file is not available\n",
      "Downloading file 2025-05\n",
      "2025-05 file is not available\n",
      "Downloading file 2025-06\n",
      "2025-06 file is not available\n",
      "Downloading file 2025-07\n",
      "2025-07 file is not available\n",
      "Downloading file 2025-08\n",
      "2025-08 file is not available\n",
      "Downloading file 2025-09\n",
      "2025-09 file is not available\n",
      "Downloading file 2025-10\n",
      "2025-10 file is not available\n",
      "Downloading file 2025-11\n",
      "2025-11 file is not available\n",
      "Downloading file 2025-12\n",
      "2025-12 file is not available\n"
     ]
    },
    {
     "data": {
      "text/html": [
       "<div>\n",
       "<style scoped>\n",
       "    .dataframe tbody tr th:only-of-type {\n",
       "        vertical-align: middle;\n",
       "    }\n",
       "\n",
       "    .dataframe tbody tr th {\n",
       "        vertical-align: top;\n",
       "    }\n",
       "\n",
       "    .dataframe thead th {\n",
       "        text-align: right;\n",
       "    }\n",
       "</style>\n",
       "<table border=\"1\" class=\"dataframe\">\n",
       "  <thead>\n",
       "    <tr style=\"text-align: right;\">\n",
       "      <th></th>\n",
       "      <th>pickup_datetime</th>\n",
       "      <th>pickup_location_id</th>\n",
       "    </tr>\n",
       "  </thead>\n",
       "  <tbody>\n",
       "    <tr>\n",
       "      <th>count</th>\n",
       "      <td>48222016</td>\n",
       "      <td>4.822202e+07</td>\n",
       "    </tr>\n",
       "    <tr>\n",
       "      <th>mean</th>\n",
       "      <td>2024-08-06 01:50:30.125478</td>\n",
       "      <td>1.642402e+02</td>\n",
       "    </tr>\n",
       "    <tr>\n",
       "      <th>min</th>\n",
       "      <td>2024-01-01 00:00:00</td>\n",
       "      <td>1.000000e+00</td>\n",
       "    </tr>\n",
       "    <tr>\n",
       "      <th>25%</th>\n",
       "      <td>2024-04-21 13:46:25.750000</td>\n",
       "      <td>1.320000e+02</td>\n",
       "    </tr>\n",
       "    <tr>\n",
       "      <th>50%</th>\n",
       "      <td>2024-08-07 16:25:55</td>\n",
       "      <td>1.610000e+02</td>\n",
       "    </tr>\n",
       "    <tr>\n",
       "      <th>75%</th>\n",
       "      <td>2024-11-19 15:55:48.250000</td>\n",
       "      <td>2.330000e+02</td>\n",
       "    </tr>\n",
       "    <tr>\n",
       "      <th>max</th>\n",
       "      <td>2025-02-28 23:59:59</td>\n",
       "      <td>2.650000e+02</td>\n",
       "    </tr>\n",
       "    <tr>\n",
       "      <th>std</th>\n",
       "      <td>NaN</td>\n",
       "      <td>6.445180e+01</td>\n",
       "    </tr>\n",
       "  </tbody>\n",
       "</table>\n",
       "</div>"
      ],
      "text/plain": [
       "                  pickup_datetime  pickup_location_id\n",
       "count                    48222016        4.822202e+07\n",
       "mean   2024-08-06 01:50:30.125478        1.642402e+02\n",
       "min           2024-01-01 00:00:00        1.000000e+00\n",
       "25%    2024-04-21 13:46:25.750000        1.320000e+02\n",
       "50%           2024-08-07 16:25:55        1.610000e+02\n",
       "75%    2024-11-19 15:55:48.250000        2.330000e+02\n",
       "max           2025-02-28 23:59:59        2.650000e+02\n",
       "std                           NaN        6.445180e+01"
      ]
     },
     "execution_count": 4,
     "metadata": {},
     "output_type": "execute_result"
    }
   ],
   "source": [
    "from data import load_raw_data_v2\n",
    "import pandas as pd\n",
    "\n",
    "# Descargar datos desde 2024 hasta la actualidad\n",
    "\n",
    "# Con esto vamos a hacer un backfill de los datos de años anteriores\n",
    "# y así tener un dataset completo para el año actual\n",
    "# y el año anterior\n",
    "\n",
    "from_year = 2024\n",
    "to_year = datetime.now().year\n",
    "print(f'Downloading raw data from {from_year} to {to_year}')\n",
    "\n",
    "rides = pd.DataFrame()\n",
    "for year in range(from_year, to_year+1):\n",
    "    \n",
    "    # download data for the whole year\n",
    "    rides_one_year = load_raw_data_v2(year)\n",
    "    \n",
    "    # append rows\n",
    "    rides = pd.concat([rides, rides_one_year])\n",
    "\n",
    "rides.describe()\n"
   ]
  },
  {
   "cell_type": "code",
   "execution_count": 5,
   "id": "eae449ea",
   "metadata": {},
   "outputs": [
    {
     "name": "stdout",
     "output_type": "stream",
     "text": [
      "48222016 rows downloaded\n"
     ]
    }
   ],
   "source": [
    "# Tenemos un total de 48M filas\n",
    "print(f'{len(rides)} rows downloaded')"
   ]
  },
  {
   "cell_type": "code",
   "execution_count": 6,
   "id": "96c34e1f",
   "metadata": {},
   "outputs": [
    {
     "name": "stderr",
     "output_type": "stream",
     "text": [
      "Rellenando huecos por localización: 100%|██████████| 263/263 [00:00<00:00, 296.98it/s]\n"
     ]
    }
   ],
   "source": [
    "from data import transform_to_time_series\n",
    "\n",
    "# Transformamos a time series con la función transform_to_time_series\n",
    "ts_data = transform_to_time_series(rides)"
   ]
  },
  {
   "cell_type": "code",
   "execution_count": null,
   "id": "02ac9b24",
   "metadata": {},
   "outputs": [
    {
     "name": "stdout",
     "output_type": "stream",
     "text": [
      "2025-05-08 13:54:20,313 INFO: Initializing external client\n",
      "2025-05-08 13:54:20,314 INFO: Base URL: https://c.app.hopsworks.ai:443\n",
      "2025-05-08 13:54:21,834 INFO: Python Engine initialized.\n",
      "\n",
      "Logged in to project, explore it here https://c.app.hopsworks.ai:443/p/1224869\n"
     ]
    }
   ],
   "source": [
    "import os\n",
    "from dotenv import load_dotenv\n",
    "from paths import PARENT_DIR\n",
    "import hopsworks\n",
    "\n",
    "# Logeamos en hopsworks\n",
    "\n",
    "load_dotenv(PARENT_DIR / '.env')\n",
    "\n",
    "\n",
    "# Nombre del proyecto en hopsworks\n",
    "HOPSWORKS_PROJECT_NAME =  'taxo_demand'\n",
    "\n",
    "# API Key de hopsworks\n",
    "HOPSWORKS_API_KEY = \"9JzCqysXLMaEbsBJ\"\n",
    "\n",
    "project = hopsworks.login(\n",
    "    api_key_value=HOPSWORKS_API_KEY,\n",
    "\n",
    ")"
   ]
  },
  {
   "cell_type": "code",
   "execution_count": 8,
   "id": "601bc358",
   "metadata": {},
   "outputs": [],
   "source": [
    "# Creamos el feature store\n",
    "feature_store = project.get_feature_store()\n",
    "\n",
    "# Definimos el nombre y version del feature group\n",
    "FEATURE_GROUP_NAME = 'time_series_hourly_feature_group'\n",
    "FEATURE_GROUP_VERSION = 1"
   ]
  },
  {
   "cell_type": "code",
   "execution_count": 9,
   "id": "cf84b003",
   "metadata": {},
   "outputs": [],
   "source": [
    "# Creamos el feature group\n",
    "# Desactivamos el stream de Kafka\n",
    "feature_group = feature_store.create_feature_group(\n",
    "    name=FEATURE_GROUP_NAME,\n",
    "    version=FEATURE_GROUP_VERSION,\n",
    "    description=\"Hourly time series data\",\n",
    "    primary_key=['pickup_location_id', 'pickup_hour'],\n",
    "    event_time='pickup_hour',\n",
    "    stream=False,    # desactiva completamente Kafka\n",
    ")"
   ]
  },
  {
   "cell_type": "code",
   "execution_count": null,
   "id": "084824d8",
   "metadata": {},
   "outputs": [],
   "source": [
    "# Guardamos el feature group\n",
    "feature_group.insert(\n",
    "    ts_data,\n",
    "    write_options={\"wait_for_job\": True}\n",
    ")"
   ]
  },
  {
   "cell_type": "code",
   "execution_count": null,
   "id": "4f1017db",
   "metadata": {},
   "outputs": [],
   "source": []
  }
 ],
 "metadata": {
  "kernelspec": {
   "display_name": ".venv",
   "language": "python",
   "name": "python3"
  },
  "language_info": {
   "codemirror_mode": {
    "name": "ipython",
    "version": 3
   },
   "file_extension": ".py",
   "mimetype": "text/x-python",
   "name": "python",
   "nbconvert_exporter": "python",
   "pygments_lexer": "ipython3",
   "version": "3.10.10"
  }
 },
 "nbformat": 4,
 "nbformat_minor": 5
}
