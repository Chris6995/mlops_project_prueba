{
 "cells": [
  {
   "cell_type": "code",
   "execution_count": null,
   "id": "7c1fce30",
   "metadata": {},
   "outputs": [],
   "source": [
    "import sys\n",
    "from pathlib import Path\n",
    "\n",
    "# Añade src al path\n",
    "sys.path.append(str(Path().resolve().parent / \"src\"))"
   ]
  },
  {
   "cell_type": "code",
   "execution_count": null,
   "id": "c48145be",
   "metadata": {},
   "outputs": [],
   "source": [
    "import pandas as pd\n",
    "from paths import TRANSFORMED_DATA_DIR\n",
    "\n",
    "df = pd.read_parquet(TRANSFORMED_DATA_DIR / 'tabular_data_4months_4weeks_lags.parquet')\n",
    "\n",
    "df"
   ]
  },
  {
   "cell_type": "code",
   "execution_count": null,
   "id": "79e7e26d",
   "metadata": {},
   "outputs": [],
   "source": [
    "from data_split import train_test_split\n",
    "from datetime import datetime\n",
    "\n",
    "\n",
    "X_train, y_train, X_test, y_test = train_test_split(\n",
    "    df,\n",
    "    cutoff_date=datetime(2024, 1, 25),\n",
    "    target_column_name='target'\n",
    ")\n",
    "\n",
    "print(f'{X_train.shape=}')\n",
    "print(f'{y_train.shape=}')\n",
    "print(f'{X_test.shape=}')\n",
    "print(f'{y_test.shape=}')"
   ]
  },
  {
   "cell_type": "code",
   "execution_count": null,
   "id": "47591e40",
   "metadata": {},
   "outputs": [],
   "source": [
    "# Creamos una nueva clase para añadir features con media de 4 semanas\n",
    "def average_rides_last_4_weeks(X: pd.DataFrame) -> pd.DataFrame:\n",
    "    \"\"\"\n",
    "    Adds one column with the average rides from\n",
    "    - 7 days ago\n",
    "    - 14 days ago\n",
    "    - 21 days ago\n",
    "    - 28 days ago\n",
    "    \"\"\"\n",
    "    X['average_rides_last_4_weeks'] = 0.25*(\n",
    "        X[f'rides_previous_{7*24}_hour'] + \\\n",
    "        X[f'rides_previous_{2*7*24}_hour'] + \\\n",
    "        X[f'rides_previous_{3*7*24}_hour'] + \\\n",
    "        X[f'rides_previous_{4*7*24}_hour']\n",
    "    )\n",
    "    return X"
   ]
  },
  {
   "cell_type": "code",
   "execution_count": null,
   "id": "487b9e32",
   "metadata": {},
   "outputs": [],
   "source": [
    "\n",
    "from sklearn.preprocessing import FunctionTransformer\n",
    "\n",
    "# Creamos función con FunctionTransformer\n",
    "add_feature_average_rides_last_4_weeks = FunctionTransformer(\n",
    "    average_rides_last_4_weeks, validate=False)"
   ]
  },
  {
   "cell_type": "code",
   "execution_count": null,
   "id": "c03419fe",
   "metadata": {},
   "outputs": [],
   "source": [
    "# Aplicamos a los datos\n",
    "add_feature_average_rides_last_4_weeks.fit_transform(X_train)"
   ]
  },
  {
   "cell_type": "code",
   "execution_count": null,
   "id": "c5b44efd",
   "metadata": {},
   "outputs": [],
   "source": [
    "from sklearn.base import BaseEstimator, TransformerMixin\n",
    "\n",
    "# Añadimos features temporales hour y day_of_week\n",
    "# Creamos clase para transformar los datos\n",
    "class TemporalFeaturesEngineer(BaseEstimator, TransformerMixin):\n",
    "\n",
    "    def fit(self, X, y=None):\n",
    "        return self\n",
    "    \n",
    "    def transform(self, X, y=None):\n",
    "        \n",
    "        X_ = X.copy()\n",
    "        \n",
    "        # Generate numeric columns from datetime\n",
    "        X_[\"hour\"] = X_['pickup_hour'].dt.hour\n",
    "        X_[\"day_of_week\"] = X_['pickup_hour'].dt.dayofweek\n",
    "        \n",
    "        return X_.drop(columns=['pickup_hour'])"
   ]
  },
  {
   "cell_type": "code",
   "execution_count": null,
   "id": "bae4edde",
   "metadata": {},
   "outputs": [],
   "source": [
    "# Aplicamos ese feature eng a los datos\n",
    "add_temporal_features = TemporalFeaturesEngineer()\n",
    "add_temporal_features.fit_transform(X_train)"
   ]
  },
  {
   "cell_type": "code",
   "execution_count": null,
   "id": "61396c31",
   "metadata": {},
   "outputs": [],
   "source": [
    "# Entrenamiento\n",
    "import lightgbm as lgb\n",
    "from sklearn.pipeline import make_pipeline\n",
    "from sklearn.metrics import mean_absolute_error\n",
    "\n",
    "# Usamos un pipeline\n",
    "pipeline = make_pipeline(\n",
    "    add_feature_average_rides_last_4_weeks,\n",
    "    add_temporal_features,\n",
    "    lgb.LGBMRegressor()\n",
    ")\n",
    "\n",
    "# Entrenamos el modelo\n",
    "pipeline.fit(X_train, y_train)\n",
    "\n",
    "# Predecciomos\n",
    "predictions = pipeline.predict(X_test)\n",
    "\n",
    "# Evaluamos el modelo\n",
    "test_mae = mean_absolute_error(y_test, predictions)\n",
    "print(f'{test_mae=:.4f}')"
   ]
  }
 ],
 "metadata": {
  "kernelspec": {
   "display_name": ".venv",
   "language": "python",
   "name": "python3"
  },
  "language_info": {
   "name": "python",
   "version": "3.10.10"
  }
 },
 "nbformat": 4,
 "nbformat_minor": 5
}
