{
 "cells": [
  {
   "cell_type": "code",
   "execution_count": 1,
   "id": "311fb89d",
   "metadata": {},
   "outputs": [],
   "source": [
    "import sys\n",
    "from pathlib import Path\n",
    "from datetime import datetime\n",
    "\n",
    "# Añade src al path\n",
    "sys.path.append(str(Path().resolve().parent / \"src\"))\n",
    "\n",
    "import config"
   ]
  },
  {
   "cell_type": "code",
   "execution_count": 2,
   "id": "3add4553",
   "metadata": {},
   "outputs": [],
   "source": [
    "# # Configura el entorno de trabajo\n",
    "%reload_ext autoreload\n",
    "%autoreload 2"
   ]
  },
  {
   "cell_type": "code",
   "execution_count": 3,
   "id": "dbfed264",
   "metadata": {},
   "outputs": [
    {
     "name": "stdout",
     "output_type": "stream",
     "text": [
      "2025-05-23 15:33:53,993 INFO: Initializing external client\n",
      "2025-05-23 15:33:53,994 INFO: Base URL: https://c.app.hopsworks.ai:443\n",
      "2025-05-23 15:33:55,213 INFO: Python Engine initialized.\n",
      "\n",
      "Logged in to project, explore it here https://c.app.hopsworks.ai:443/p/1224869\n"
     ]
    }
   ],
   "source": [
    "import hopsworks\n",
    "\n",
    "# Conecta a Hopsworks\n",
    "project = hopsworks.login(\n",
    "    project=config.HOPSWORKS_PROJECT_NAME,\n",
    "    api_key_value=config.HOPSWORKS_API_KEY\n",
    ")\n",
    "\n",
    "# Conecta a la API de Feature Store\n",
    "feature_store = project.get_feature_store()\n",
    "\n",
    "# Conecta al grupo de características\n",
    "feature_group = feature_store.get_feature_group(\n",
    "    name=config.FEATURE_GROUP_NAME,\n",
    "    version=config.FEATURE_GROUP_VERSION,\n",
    ")"
   ]
  },
  {
   "cell_type": "code",
   "execution_count": 4,
   "id": "218c299d",
   "metadata": {},
   "outputs": [
    {
     "name": "stdout",
     "output_type": "stream",
     "text": [
      "Feature view already existed. Skip creation.\n"
     ]
    }
   ],
   "source": [
    "# Crea una vista de características (si no existe ya)\n",
    "# Esta vista de características usa solo un grupo de características, por lo que la consulta es trivial\n",
    "try:\n",
    "    # Crea la vista de características si no existe\n",
    "    feature_store.create_feature_view(\n",
    "        name=config.FEATURE_VIEW_NAME,\n",
    "        version=config.FEATURE_VIEW_VERSION,\n",
    "        query=feature_group.select_all()\n",
    "    )\n",
    "except:\n",
    "    print('Feature view already existed. Skip creation.')"
   ]
  },
  {
   "cell_type": "code",
   "execution_count": 5,
   "id": "7260c6c3",
   "metadata": {},
   "outputs": [],
   "source": [
    "# obtenemos la vista de características\n",
    "feature_view = feature_store.get_feature_view(\n",
    "    name=config.FEATURE_VIEW_NAME,\n",
    "    version=config.FEATURE_VIEW_VERSION\n",
    ")"
   ]
  },
  {
   "cell_type": "code",
   "execution_count": 6,
   "id": "824b09fc",
   "metadata": {},
   "outputs": [
    {
     "name": "stdout",
     "output_type": "stream",
     "text": [
      "Finished: Reading data from Hopsworks, using Hopsworks Feature Query Service (11.22s) \n"
     ]
    },
    {
     "name": "stderr",
     "output_type": "stream",
     "text": [
      "VersionWarning: Incremented version to `5`.\n"
     ]
    }
   ],
   "source": [
    "# obtenemos la vista de características necesaria para el entrenamiento\n",
    "ts_data, _ = feature_view.training_data(\n",
    "    description='Time-series hourly taxi rides',\n",
    ")"
   ]
  },
  {
   "cell_type": "code",
   "execution_count": 7,
   "id": "eea5635b",
   "metadata": {},
   "outputs": [
    {
     "data": {
      "text/html": [
       "<div>\n",
       "<style scoped>\n",
       "    .dataframe tbody tr th:only-of-type {\n",
       "        vertical-align: middle;\n",
       "    }\n",
       "\n",
       "    .dataframe tbody tr th {\n",
       "        vertical-align: top;\n",
       "    }\n",
       "\n",
       "    .dataframe thead th {\n",
       "        text-align: right;\n",
       "    }\n",
       "</style>\n",
       "<table border=\"1\" class=\"dataframe\">\n",
       "  <thead>\n",
       "    <tr style=\"text-align: right;\">\n",
       "      <th></th>\n",
       "      <th>pickup_hour</th>\n",
       "      <th>pickup_location_id</th>\n",
       "      <th>rides</th>\n",
       "    </tr>\n",
       "  </thead>\n",
       "  <tbody>\n",
       "    <tr>\n",
       "      <th>0</th>\n",
       "      <td>2024-10-16 16:00:00+00:00</td>\n",
       "      <td>118</td>\n",
       "      <td>0</td>\n",
       "    </tr>\n",
       "    <tr>\n",
       "      <th>1</th>\n",
       "      <td>2024-06-30 06:00:00+00:00</td>\n",
       "      <td>226</td>\n",
       "      <td>9</td>\n",
       "    </tr>\n",
       "    <tr>\n",
       "      <th>2</th>\n",
       "      <td>2024-07-25 09:00:00+00:00</td>\n",
       "      <td>132</td>\n",
       "      <td>163</td>\n",
       "    </tr>\n",
       "    <tr>\n",
       "      <th>3</th>\n",
       "      <td>2024-06-15 16:00:00+00:00</td>\n",
       "      <td>138</td>\n",
       "      <td>163</td>\n",
       "    </tr>\n",
       "    <tr>\n",
       "      <th>4</th>\n",
       "      <td>2024-09-19 03:00:00+00:00</td>\n",
       "      <td>246</td>\n",
       "      <td>35</td>\n",
       "    </tr>\n",
       "  </tbody>\n",
       "</table>\n",
       "</div>"
      ],
      "text/plain": [
       "                 pickup_hour  pickup_location_id  rides\n",
       "0  2024-10-16 16:00:00+00:00                 118      0\n",
       "1  2024-06-30 06:00:00+00:00                 226      9\n",
       "2  2024-07-25 09:00:00+00:00                 132    163\n",
       "3  2024-06-15 16:00:00+00:00                 138    163\n",
       "4  2024-09-19 03:00:00+00:00                 246     35"
      ]
     },
     "execution_count": 7,
     "metadata": {},
     "output_type": "execute_result"
    }
   ],
   "source": [
    "ts_data.head()"
   ]
  },
  {
   "cell_type": "code",
   "execution_count": 10,
   "id": "7c2b4b75",
   "metadata": {},
   "outputs": [
    {
     "data": {
      "text/html": [
       "<div>\n",
       "<style scoped>\n",
       "    .dataframe tbody tr th:only-of-type {\n",
       "        vertical-align: middle;\n",
       "    }\n",
       "\n",
       "    .dataframe tbody tr th {\n",
       "        vertical-align: top;\n",
       "    }\n",
       "\n",
       "    .dataframe thead th {\n",
       "        text-align: right;\n",
       "    }\n",
       "</style>\n",
       "<table border=\"1\" class=\"dataframe\">\n",
       "  <thead>\n",
       "    <tr style=\"text-align: right;\">\n",
       "      <th></th>\n",
       "      <th>pickup_hour</th>\n",
       "      <th>pickup_location_id</th>\n",
       "      <th>rides</th>\n",
       "    </tr>\n",
       "  </thead>\n",
       "  <tbody>\n",
       "    <tr>\n",
       "      <th>count</th>\n",
       "      <td>2854812</td>\n",
       "      <td>2.854812e+06</td>\n",
       "      <td>2.854812e+06</td>\n",
       "    </tr>\n",
       "    <tr>\n",
       "      <th>mean</th>\n",
       "      <td>2024-08-16 14:10:23.051606784+00:00</td>\n",
       "      <td>1.332348e+02</td>\n",
       "      <td>1.805797e+01</td>\n",
       "    </tr>\n",
       "    <tr>\n",
       "      <th>min</th>\n",
       "      <td>2024-01-01 00:00:00+00:00</td>\n",
       "      <td>1.000000e+00</td>\n",
       "      <td>0.000000e+00</td>\n",
       "    </tr>\n",
       "    <tr>\n",
       "      <th>25%</th>\n",
       "      <td>2024-04-23 01:00:00+00:00</td>\n",
       "      <td>6.600000e+01</td>\n",
       "      <td>0.000000e+00</td>\n",
       "    </tr>\n",
       "    <tr>\n",
       "      <th>50%</th>\n",
       "      <td>2024-08-14 03:00:00+00:00</td>\n",
       "      <td>1.340000e+02</td>\n",
       "      <td>0.000000e+00</td>\n",
       "    </tr>\n",
       "    <tr>\n",
       "      <th>75%</th>\n",
       "      <td>2024-12-05 05:00:00+00:00</td>\n",
       "      <td>2.000000e+02</td>\n",
       "      <td>3.000000e+00</td>\n",
       "    </tr>\n",
       "    <tr>\n",
       "      <th>max</th>\n",
       "      <td>2025-05-08 16:00:00+00:00</td>\n",
       "      <td>2.650000e+02</td>\n",
       "      <td>1.239000e+03</td>\n",
       "    </tr>\n",
       "    <tr>\n",
       "      <th>std</th>\n",
       "      <td>NaN</td>\n",
       "      <td>7.674766e+01</td>\n",
       "      <td>5.519342e+01</td>\n",
       "    </tr>\n",
       "  </tbody>\n",
       "</table>\n",
       "</div>"
      ],
      "text/plain": [
       "                               pickup_hour  pickup_location_id         rides\n",
       "count                              2854812        2.854812e+06  2.854812e+06\n",
       "mean   2024-08-16 14:10:23.051606784+00:00        1.332348e+02  1.805797e+01\n",
       "min              2024-01-01 00:00:00+00:00        1.000000e+00  0.000000e+00\n",
       "25%              2024-04-23 01:00:00+00:00        6.600000e+01  0.000000e+00\n",
       "50%              2024-08-14 03:00:00+00:00        1.340000e+02  0.000000e+00\n",
       "75%              2024-12-05 05:00:00+00:00        2.000000e+02  3.000000e+00\n",
       "max              2025-05-08 16:00:00+00:00        2.650000e+02  1.239000e+03\n",
       "std                                    NaN        7.674766e+01  5.519342e+01"
      ]
     },
     "execution_count": 10,
     "metadata": {},
     "output_type": "execute_result"
    }
   ],
   "source": [
    "import pandas as pd\n",
    "\n",
    "ts_data['pickup_hour'] = pd.to_datetime(ts_data['pickup_hour'])\n",
    "\n",
    "ts_data.describe(include='all')"
   ]
  },
  {
   "cell_type": "code",
   "execution_count": 12,
   "id": "6d48f09d",
   "metadata": {},
   "outputs": [
    {
     "name": "stderr",
     "output_type": "stream",
     "text": [
      "100%|██████████| 263/263 [00:17<00:00, 15.31it/s]\n"
     ]
    },
    {
     "name": "stdout",
     "output_type": "stream",
     "text": [
      "features_and_target.shape=(123875, 27)\n"
     ]
    }
   ],
   "source": [
    "from data import transform_ts_data_into_features_and_target\n",
    "\n",
    "features, targets = transform_ts_data_into_features_and_target(\n",
    "    ts_data,\n",
    "    input_seq_len=24, # one month\n",
    "    step_size=23,\n",
    ")\n",
    "\n",
    "features_and_target = features.copy()\n",
    "features_and_target['target_rides_next_hour'] = targets\n",
    "\n",
    "print(f'{features_and_target.shape=}')"
   ]
  },
  {
   "cell_type": "code",
   "execution_count": 28,
   "id": "60f79a6e",
   "metadata": {},
   "outputs": [],
   "source": [
    "import pandas as pd\n",
    "\n",
    "# Convertimos la columna de fecha y hora a un objeto datetime\n",
    "\n",
    "features_and_target['pickup_hour'] = pd.to_datetime(features_and_target['pickup_hour'])"
   ]
  },
  {
   "cell_type": "code",
   "execution_count": null,
   "id": "32ed10cd",
   "metadata": {},
   "outputs": [
    {
     "name": "stdout",
     "output_type": "stream",
     "text": [
      "cutoff_date=Timestamp('2025-04-25 00:00:00+0000', tz='UTC')\n",
      "X_train.shape=(120319, 25)\n",
      "y_train.shape=(120319,)\n",
      "X_test.shape=(3556, 25)\n",
      "y_test.shape=(3556,)\n"
     ]
    }
   ],
   "source": [
    "from datetime import date, timedelta\n",
    "from pytz import timezone\n",
    "import pandas as pd\n",
    "from data_split import train_test_split\n",
    "\n",
    "# training data -> from January 2025 up until 2 months ago\n",
    "# test data -> last 2 months\n",
    "cutoff_date = pd.to_datetime(date.today() - timedelta(days=28*1), utc=True)\n",
    "\n",
    "print(f'{cutoff_date=}')\n",
    "\n",
    "X_train, y_train, X_test, y_test = train_test_split(\n",
    "    features_and_target,\n",
    "    cutoff_date,\n",
    "    target_column_name='target_rides_next_hour'   \n",
    ")\n",
    "\n",
    "\n",
    "# eliminamos la columna de fecha y hora\n",
    "X_train = X_train.drop(columns=['pickup_hour'])\n",
    "X_test = X_test.drop(columns=['pickup_hour'])\n",
    "\n",
    "print(f'{X_train.shape=}')\n",
    "print(f'{y_train.shape=}')\n",
    "print(f'{X_test.shape=}')\n",
    "print(f'{y_test.shape=}')"
   ]
  },
  {
   "cell_type": "code",
   "execution_count": 26,
   "id": "646efe59",
   "metadata": {},
   "outputs": [
    {
     "data": {
      "text/html": [
       "<div>\n",
       "<style scoped>\n",
       "    .dataframe tbody tr th:only-of-type {\n",
       "        vertical-align: middle;\n",
       "    }\n",
       "\n",
       "    .dataframe tbody tr th {\n",
       "        vertical-align: top;\n",
       "    }\n",
       "\n",
       "    .dataframe thead th {\n",
       "        text-align: right;\n",
       "    }\n",
       "</style>\n",
       "<table border=\"1\" class=\"dataframe\">\n",
       "  <thead>\n",
       "    <tr style=\"text-align: right;\">\n",
       "      <th></th>\n",
       "      <th>rides_previous_24_hour</th>\n",
       "      <th>rides_previous_23_hour</th>\n",
       "      <th>rides_previous_22_hour</th>\n",
       "      <th>rides_previous_21_hour</th>\n",
       "      <th>rides_previous_20_hour</th>\n",
       "      <th>rides_previous_19_hour</th>\n",
       "      <th>rides_previous_18_hour</th>\n",
       "      <th>rides_previous_17_hour</th>\n",
       "      <th>rides_previous_16_hour</th>\n",
       "      <th>rides_previous_15_hour</th>\n",
       "      <th>...</th>\n",
       "      <th>rides_previous_9_hour</th>\n",
       "      <th>rides_previous_8_hour</th>\n",
       "      <th>rides_previous_7_hour</th>\n",
       "      <th>rides_previous_6_hour</th>\n",
       "      <th>rides_previous_5_hour</th>\n",
       "      <th>rides_previous_4_hour</th>\n",
       "      <th>rides_previous_3_hour</th>\n",
       "      <th>rides_previous_2_hour</th>\n",
       "      <th>rides_previous_1_hour</th>\n",
       "      <th>pickup_location_id</th>\n",
       "    </tr>\n",
       "  </thead>\n",
       "  <tbody>\n",
       "    <tr>\n",
       "      <th>120314</th>\n",
       "      <td>1.0</td>\n",
       "      <td>1.0</td>\n",
       "      <td>1.0</td>\n",
       "      <td>3.0</td>\n",
       "      <td>3.0</td>\n",
       "      <td>3.0</td>\n",
       "      <td>0.0</td>\n",
       "      <td>0.0</td>\n",
       "      <td>3.0</td>\n",
       "      <td>0.0</td>\n",
       "      <td>...</td>\n",
       "      <td>3.0</td>\n",
       "      <td>0.0</td>\n",
       "      <td>0.0</td>\n",
       "      <td>2.0</td>\n",
       "      <td>1.0</td>\n",
       "      <td>4.0</td>\n",
       "      <td>4.0</td>\n",
       "      <td>4.0</td>\n",
       "      <td>1.0</td>\n",
       "      <td>129</td>\n",
       "    </tr>\n",
       "    <tr>\n",
       "      <th>120315</th>\n",
       "      <td>1.0</td>\n",
       "      <td>0.0</td>\n",
       "      <td>4.0</td>\n",
       "      <td>3.0</td>\n",
       "      <td>4.0</td>\n",
       "      <td>2.0</td>\n",
       "      <td>2.0</td>\n",
       "      <td>1.0</td>\n",
       "      <td>2.0</td>\n",
       "      <td>2.0</td>\n",
       "      <td>...</td>\n",
       "      <td>2.0</td>\n",
       "      <td>1.0</td>\n",
       "      <td>3.0</td>\n",
       "      <td>4.0</td>\n",
       "      <td>4.0</td>\n",
       "      <td>1.0</td>\n",
       "      <td>2.0</td>\n",
       "      <td>2.0</td>\n",
       "      <td>1.0</td>\n",
       "      <td>129</td>\n",
       "    </tr>\n",
       "    <tr>\n",
       "      <th>120316</th>\n",
       "      <td>1.0</td>\n",
       "      <td>4.0</td>\n",
       "      <td>2.0</td>\n",
       "      <td>0.0</td>\n",
       "      <td>1.0</td>\n",
       "      <td>2.0</td>\n",
       "      <td>0.0</td>\n",
       "      <td>3.0</td>\n",
       "      <td>3.0</td>\n",
       "      <td>2.0</td>\n",
       "      <td>...</td>\n",
       "      <td>2.0</td>\n",
       "      <td>0.0</td>\n",
       "      <td>1.0</td>\n",
       "      <td>3.0</td>\n",
       "      <td>0.0</td>\n",
       "      <td>1.0</td>\n",
       "      <td>0.0</td>\n",
       "      <td>1.0</td>\n",
       "      <td>3.0</td>\n",
       "      <td>129</td>\n",
       "    </tr>\n",
       "    <tr>\n",
       "      <th>120317</th>\n",
       "      <td>3.0</td>\n",
       "      <td>1.0</td>\n",
       "      <td>1.0</td>\n",
       "      <td>1.0</td>\n",
       "      <td>3.0</td>\n",
       "      <td>2.0</td>\n",
       "      <td>1.0</td>\n",
       "      <td>1.0</td>\n",
       "      <td>2.0</td>\n",
       "      <td>1.0</td>\n",
       "      <td>...</td>\n",
       "      <td>0.0</td>\n",
       "      <td>2.0</td>\n",
       "      <td>2.0</td>\n",
       "      <td>0.0</td>\n",
       "      <td>1.0</td>\n",
       "      <td>4.0</td>\n",
       "      <td>1.0</td>\n",
       "      <td>4.0</td>\n",
       "      <td>3.0</td>\n",
       "      <td>129</td>\n",
       "    </tr>\n",
       "    <tr>\n",
       "      <th>120318</th>\n",
       "      <td>3.0</td>\n",
       "      <td>2.0</td>\n",
       "      <td>5.0</td>\n",
       "      <td>1.0</td>\n",
       "      <td>5.0</td>\n",
       "      <td>3.0</td>\n",
       "      <td>1.0</td>\n",
       "      <td>0.0</td>\n",
       "      <td>0.0</td>\n",
       "      <td>0.0</td>\n",
       "      <td>...</td>\n",
       "      <td>1.0</td>\n",
       "      <td>0.0</td>\n",
       "      <td>0.0</td>\n",
       "      <td>3.0</td>\n",
       "      <td>1.0</td>\n",
       "      <td>0.0</td>\n",
       "      <td>0.0</td>\n",
       "      <td>2.0</td>\n",
       "      <td>3.0</td>\n",
       "      <td>129</td>\n",
       "    </tr>\n",
       "  </tbody>\n",
       "</table>\n",
       "<p>5 rows × 25 columns</p>\n",
       "</div>"
      ],
      "text/plain": [
       "        rides_previous_24_hour  rides_previous_23_hour  \\\n",
       "120314                     1.0                     1.0   \n",
       "120315                     1.0                     0.0   \n",
       "120316                     1.0                     4.0   \n",
       "120317                     3.0                     1.0   \n",
       "120318                     3.0                     2.0   \n",
       "\n",
       "        rides_previous_22_hour  rides_previous_21_hour  \\\n",
       "120314                     1.0                     3.0   \n",
       "120315                     4.0                     3.0   \n",
       "120316                     2.0                     0.0   \n",
       "120317                     1.0                     1.0   \n",
       "120318                     5.0                     1.0   \n",
       "\n",
       "        rides_previous_20_hour  rides_previous_19_hour  \\\n",
       "120314                     3.0                     3.0   \n",
       "120315                     4.0                     2.0   \n",
       "120316                     1.0                     2.0   \n",
       "120317                     3.0                     2.0   \n",
       "120318                     5.0                     3.0   \n",
       "\n",
       "        rides_previous_18_hour  rides_previous_17_hour  \\\n",
       "120314                     0.0                     0.0   \n",
       "120315                     2.0                     1.0   \n",
       "120316                     0.0                     3.0   \n",
       "120317                     1.0                     1.0   \n",
       "120318                     1.0                     0.0   \n",
       "\n",
       "        rides_previous_16_hour  rides_previous_15_hour  ...  \\\n",
       "120314                     3.0                     0.0  ...   \n",
       "120315                     2.0                     2.0  ...   \n",
       "120316                     3.0                     2.0  ...   \n",
       "120317                     2.0                     1.0  ...   \n",
       "120318                     0.0                     0.0  ...   \n",
       "\n",
       "        rides_previous_9_hour  rides_previous_8_hour  rides_previous_7_hour  \\\n",
       "120314                    3.0                    0.0                    0.0   \n",
       "120315                    2.0                    1.0                    3.0   \n",
       "120316                    2.0                    0.0                    1.0   \n",
       "120317                    0.0                    2.0                    2.0   \n",
       "120318                    1.0                    0.0                    0.0   \n",
       "\n",
       "        rides_previous_6_hour  rides_previous_5_hour  rides_previous_4_hour  \\\n",
       "120314                    2.0                    1.0                    4.0   \n",
       "120315                    4.0                    4.0                    1.0   \n",
       "120316                    3.0                    0.0                    1.0   \n",
       "120317                    0.0                    1.0                    4.0   \n",
       "120318                    3.0                    1.0                    0.0   \n",
       "\n",
       "        rides_previous_3_hour  rides_previous_2_hour  rides_previous_1_hour  \\\n",
       "120314                    4.0                    4.0                    1.0   \n",
       "120315                    2.0                    2.0                    1.0   \n",
       "120316                    0.0                    1.0                    3.0   \n",
       "120317                    1.0                    4.0                    3.0   \n",
       "120318                    0.0                    2.0                    3.0   \n",
       "\n",
       "        pickup_location_id  \n",
       "120314                 129  \n",
       "120315                 129  \n",
       "120316                 129  \n",
       "120317                 129  \n",
       "120318                 129  \n",
       "\n",
       "[5 rows x 25 columns]"
      ]
     },
     "execution_count": 26,
     "metadata": {},
     "output_type": "execute_result"
    }
   ],
   "source": [
    "X_train.tail()"
   ]
  },
  {
   "cell_type": "code",
   "execution_count": 14,
   "id": "8de9744b",
   "metadata": {},
   "outputs": [
    {
     "data": {
      "text/plain": [
       "120314    0.0\n",
       "120315    4.0\n",
       "120316    1.0\n",
       "120317    2.0\n",
       "120318    3.0\n",
       "Name: target_rides_next_hour, dtype: float32"
      ]
     },
     "execution_count": 14,
     "metadata": {},
     "output_type": "execute_result"
    }
   ],
   "source": [
    "y_train.tail()"
   ]
  },
  {
   "cell_type": "code",
   "execution_count": 15,
   "id": "275bbb83",
   "metadata": {},
   "outputs": [
    {
     "name": "stdout",
     "output_type": "stream",
     "text": [
      "Random Forest - MAE: 3.27 | RMSE: 143.92 | R2: 0.94\n"
     ]
    }
   ],
   "source": [
    "from sklearn.ensemble import RandomForestRegressor\n",
    "from sklearn.metrics import mean_absolute_error, r2_score, mean_squared_error\n",
    "\n",
    "# Train the Random Forest model\n",
    "rf_model = RandomForestRegressor()\n",
    "rf_model.fit(X_train, y_train)\n",
    "\n",
    "# Predicciones\n",
    "y_pred_rf = rf_model.predict(X_test)\n",
    "\n",
    "# Evaluación\n",
    "mae_rf = mean_absolute_error(y_test, y_pred_rf)\n",
    "rmse_rf = mean_squared_error(y_test, y_pred_rf)\n",
    "r2 = r2_score(y_test, y_pred_rf)\n",
    "\n",
    "print(f\"Random Forest - MAE: {mae_rf:.2f} | RMSE: {rmse_rf:.2f} | R2: {r2:.2f}\")"
   ]
  },
  {
   "cell_type": "code",
   "execution_count": null,
   "id": "2656bb95",
   "metadata": {},
   "outputs": [
    {
     "data": {
      "text/plain": [
       "array(['rides_previous_24_hour', 'rides_previous_23_hour',\n",
       "       'rides_previous_22_hour', 'rides_previous_21_hour',\n",
       "       'rides_previous_20_hour', 'rides_previous_19_hour',\n",
       "       'rides_previous_18_hour', 'rides_previous_17_hour',\n",
       "       'rides_previous_16_hour', 'rides_previous_15_hour',\n",
       "       'rides_previous_14_hour', 'rides_previous_13_hour',\n",
       "       'rides_previous_12_hour', 'rides_previous_11_hour',\n",
       "       'rides_previous_10_hour', 'rides_previous_9_hour',\n",
       "       'rides_previous_8_hour', 'rides_previous_7_hour',\n",
       "       'rides_previous_6_hour', 'rides_previous_5_hour',\n",
       "       'rides_previous_4_hour', 'rides_previous_3_hour',\n",
       "       'rides_previous_2_hour', 'rides_previous_1_hour',\n",
       "       'pickup_location_id'], dtype=object)"
      ]
     },
     "execution_count": 28,
     "metadata": {},
     "output_type": "execute_result"
    }
   ],
   "source": [
    "import joblib\n",
    "from paths import MODELS_DIR\n",
    "\n",
    "joblib.dump(rf_model, MODELS_DIR / 'rf_model_v2.pkl')"
   ]
  },
  {
   "cell_type": "code",
   "execution_count": null,
   "id": "6ca2b1be",
   "metadata": {},
   "outputs": [
    {
     "data": {
      "text/plain": [
       "array(['rides_previous_24_hour', 'rides_previous_23_hour',\n",
       "       'rides_previous_22_hour', 'rides_previous_21_hour',\n",
       "       'rides_previous_20_hour', 'rides_previous_19_hour',\n",
       "       'rides_previous_18_hour', 'rides_previous_17_hour',\n",
       "       'rides_previous_16_hour', 'rides_previous_15_hour',\n",
       "       'rides_previous_14_hour', 'rides_previous_13_hour',\n",
       "       'rides_previous_12_hour', 'rides_previous_11_hour',\n",
       "       'rides_previous_10_hour', 'rides_previous_9_hour',\n",
       "       'rides_previous_8_hour', 'rides_previous_7_hour',\n",
       "       'rides_previous_6_hour', 'rides_previous_5_hour',\n",
       "       'rides_previous_4_hour', 'rides_previous_3_hour',\n",
       "       'rides_previous_2_hour', 'rides_previous_1_hour',\n",
       "       'pickup_location_id'], dtype=object)"
      ]
     },
     "execution_count": 29,
     "metadata": {},
     "output_type": "execute_result"
    }
   ],
   "source": [
    "# cargamos el modelo para probarlo\n",
    "rf_model = joblib.load(MODELS_DIR / 'rf_model_v2.pkl')"
   ]
  },
  {
   "cell_type": "code",
   "execution_count": 23,
   "id": "06aafc60",
   "metadata": {},
   "outputs": [
    {
     "data": {
      "text/plain": [
       "Index(['rides_previous_24_hour', 'rides_previous_23_hour',\n",
       "       'rides_previous_22_hour', 'rides_previous_21_hour',\n",
       "       'rides_previous_20_hour', 'rides_previous_19_hour',\n",
       "       'rides_previous_18_hour', 'rides_previous_17_hour',\n",
       "       'rides_previous_16_hour', 'rides_previous_15_hour',\n",
       "       'rides_previous_14_hour', 'rides_previous_13_hour',\n",
       "       'rides_previous_12_hour', 'rides_previous_11_hour',\n",
       "       'rides_previous_10_hour', 'rides_previous_9_hour',\n",
       "       'rides_previous_8_hour', 'rides_previous_7_hour',\n",
       "       'rides_previous_6_hour', 'rides_previous_5_hour',\n",
       "       'rides_previous_4_hour', 'rides_previous_3_hour',\n",
       "       'rides_previous_2_hour', 'rides_previous_1_hour', 'pickup_location_id'],\n",
       "      dtype='object')"
      ]
     },
     "execution_count": 23,
     "metadata": {},
     "output_type": "execute_result"
    }
   ],
   "source": [
    "X_train.columns"
   ]
  },
  {
   "cell_type": "code",
   "execution_count": 20,
   "id": "e403e49b",
   "metadata": {},
   "outputs": [
    {
     "data": {
      "text/plain": [
       "count    3556.000000\n",
       "mean       13.294150\n",
       "std        48.741875\n",
       "min         0.000000\n",
       "25%         0.000000\n",
       "50%         0.000000\n",
       "75%         2.000000\n",
       "max       686.000000\n",
       "Name: target_rides_next_hour, dtype: float64"
      ]
     },
     "execution_count": 20,
     "metadata": {},
     "output_type": "execute_result"
    }
   ],
   "source": [
    "y_test.describe()"
   ]
  },
  {
   "cell_type": "code",
   "execution_count": 30,
   "id": "9c1bc033",
   "metadata": {},
   "outputs": [
    {
     "data": {
      "text/plain": [
       "3.2653103610817307"
      ]
     },
     "execution_count": 30,
     "metadata": {},
     "output_type": "execute_result"
    }
   ],
   "source": [
    "from sklearn.metrics import mean_absolute_error\n",
    "\n",
    "predictions = rf_model.predict(X_test)\n",
    "\n",
    "mean_absolute_error(y_test, predictions)"
   ]
  },
  {
   "cell_type": "code",
   "execution_count": null,
   "id": "c7143711",
   "metadata": {},
   "outputs": [
    {
     "data": {
      "text/plain": [
       "array(['rides_previous_24_hour', 'rides_previous_23_hour',\n",
       "       'rides_previous_22_hour', 'rides_previous_21_hour',\n",
       "       'rides_previous_20_hour', 'rides_previous_19_hour',\n",
       "       'rides_previous_18_hour', 'rides_previous_17_hour',\n",
       "       'rides_previous_16_hour', 'rides_previous_15_hour',\n",
       "       'rides_previous_14_hour', 'rides_previous_13_hour',\n",
       "       'rides_previous_12_hour', 'rides_previous_11_hour',\n",
       "       'rides_previous_10_hour', 'rides_previous_9_hour',\n",
       "       'rides_previous_8_hour', 'rides_previous_7_hour',\n",
       "       'rides_previous_6_hour', 'rides_previous_5_hour',\n",
       "       'rides_previous_4_hour', 'rides_previous_3_hour',\n",
       "       'rides_previous_2_hour', 'rides_previous_1_hour',\n",
       "       'pickup_location_id'], dtype=object)"
      ]
     },
     "execution_count": 34,
     "metadata": {},
     "output_type": "execute_result"
    }
   ],
   "source": [
    "rf_model.feature_names_in_"
   ]
  },
  {
   "cell_type": "code",
   "execution_count": null,
   "id": "bba02777",
   "metadata": {},
   "outputs": [
    {
     "data": {
      "application/vnd.jupyter.widget-view+json": {
       "model_id": "d5d488f8a247404085f97a7b8c9ab6e9",
       "version_major": 2,
       "version_minor": 0
      },
      "text/plain": [
       "  0%|          | 0/6 [00:00<?, ?it/s]"
      ]
     },
     "metadata": {},
     "output_type": "display_data"
    },
    {
     "data": {
      "application/vnd.jupyter.widget-view+json": {
       "model_id": "c8c6df0207ad4e9b8cdcb6cd54fa3733",
       "version_major": 2,
       "version_minor": 0
      },
      "text/plain": [
       "Uploading /Users/cdonairem/Documents/Workspace/proyecto_mlops_prueba_poetry/models/rf_model_v2.pkl: 0.000%|   …"
      ]
     },
     "metadata": {},
     "output_type": "display_data"
    },
    {
     "data": {
      "application/vnd.jupyter.widget-view+json": {
       "model_id": "4077049a1b404b728ccbdb43caf20308",
       "version_major": 2,
       "version_minor": 0
      },
      "text/plain": [
       "Uploading /Users/cdonairem/Documents/Workspace/proyecto_mlops_prueba_poetry/notebooks/input_example.json: 0.00…"
      ]
     },
     "metadata": {},
     "output_type": "display_data"
    },
    {
     "data": {
      "application/vnd.jupyter.widget-view+json": {
       "model_id": "59e1830a7cc64bb2bc2f9651bd40e2ff",
       "version_major": 2,
       "version_minor": 0
      },
      "text/plain": [
       "Uploading /Users/cdonairem/Documents/Workspace/proyecto_mlops_prueba_poetry/notebooks/model_schema.json: 0.000…"
      ]
     },
     "metadata": {},
     "output_type": "display_data"
    },
    {
     "name": "stdout",
     "output_type": "stream",
     "text": [
      "Model created, explore it at https://c.app.hopsworks.ai:443/p/1224869/models/taxi_demand_predictor_next_hour/4\n"
     ]
    },
    {
     "data": {
      "text/plain": [
       "Model(name: 'taxi_demand_predictor_next_hour', version: 4)"
      ]
     },
     "execution_count": 31,
     "metadata": {},
     "output_type": "execute_result"
    }
   ],
   "source": [
    "# creamos el model registry\n",
    "# el modelo se registrará en el registro de modelos\n",
    "from hsml.schema import Schema\n",
    "from hsml.model_schema import ModelSchema\n",
    "from sklearn.metrics import mean_absolute_error\n",
    "from paths import MODELS_DIR\n",
    "\n",
    "# creamos el esquema de entrada y salida\n",
    "# el esquema de entrada es el esquema de las características\n",
    "# el esquema de salida es el esquema de la variable objetivo\n",
    "input_schema = Schema(X_train)\n",
    "output_schema = Schema(y_train)\n",
    "\n",
    "# model schema\n",
    "model_schema = ModelSchema(input_schema=input_schema, output_schema=output_schema)\n",
    "test_mae = mean_absolute_error(y_test, predictions)\n",
    "\n",
    "# obtenerlo el model registry - Hopsworks\n",
    "model_registry = project.get_model_registry()\n",
    "\n",
    "\n",
    "# registramos el modelo en el registro de modelos\n",
    "model_hopsworks = model_registry.sklearn.create_model(\n",
    "    name=\"taxi_demand_predictor_next_hour\",\n",
    "    metrics={\"test_mae\": test_mae},\n",
    "    description=\"Random Forest regressor with a bit of hyper-parameter tuning\",\n",
    "    input_example=X_train.sample(),\n",
    "    model_schema=model_schema\n",
    ")\n",
    "\n",
    "model_hopsworks.save(str(MODELS_DIR / 'rf_model_v2.pkl'))"
   ]
  }
 ],
 "metadata": {
  "kernelspec": {
   "display_name": ".venv",
   "language": "python",
   "name": "python3"
  },
  "language_info": {
   "codemirror_mode": {
    "name": "ipython",
    "version": 3
   },
   "file_extension": ".py",
   "mimetype": "text/x-python",
   "name": "python",
   "nbconvert_exporter": "python",
   "pygments_lexer": "ipython3",
   "version": "3.10.10"
  }
 },
 "nbformat": 4,
 "nbformat_minor": 5
}
