{
 "cells": [
  {
   "cell_type": "code",
   "execution_count": 6,
   "metadata": {},
   "outputs": [
    {
     "name": "stdout",
     "output_type": "stream",
     "text": [
      "Archivo guardado en ../data/raw/rides_2024_01.parquet\n"
     ]
    },
    {
     "name": "stderr",
     "output_type": "stream",
     "text": [
      "100%|██████████| 260/260 [00:01<00:00, 244.02it/s]\n"
     ]
    },
    {
     "name": "stdout",
     "output_type": "stream",
     "text": [
      "    rides_previous_1_hour  ...  rides_previous_24_hour\n",
      "24                    0.0  ...                     0.0\n",
      "25                    0.0  ...                     0.0\n",
      "26                    0.0  ...                     0.0\n",
      "27                    0.0  ...                     0.0\n",
      "28                    0.0  ...                     0.0\n",
      "\n",
      "[5 rows x 24 columns]\n",
      "24    0\n",
      "25    0\n",
      "26    0\n",
      "27    0\n",
      "28    0\n",
      "Name: rides, dtype: int64\n"
     ]
    }
   ],
   "source": [
    "from src.proyecto_mlops_prueba_poetry.data import download_data, load_and_validate_data, aggregate_rides, add_missing_slots, create_lag_features, split_features_target\n",
    "\n",
    "# Descargar y procesar datos de enero 2024\n",
    "download_data(2024, 1, \"../data/raw/\")\n",
    "\n",
    "# Cargar y limpiar\n",
    "rides = load_and_validate_data(\"../data/raw/rides_2024_01.parquet\")\n",
    "\n",
    "# Agregación y slots\n",
    "agg_rides = aggregate_rides(rides)\n",
    "agg_rides_full = add_missing_slots(agg_rides)\n",
    "\n",
    "# Features y target para la zona 43\n",
    "df_lags = create_lag_features(agg_rides_full, location_id=43, n_lags=24)\n",
    "X, y = split_features_target(df_lags, n_lags=24)\n",
    "\n",
    "print(X.head())\n",
    "print(y.head())\n",
    "\n",
    "df_lags.to_parquet(\"../data/processed/df_lags.parquet\")\n",
    "X.to_parquet(\"../data/processed/X.parquet\")\n",
    "y.to_frame().to_parquet(\"../data/processed/y.parquet\")"
   ]
  }
 ],
 "metadata": {
  "kernelspec": {
   "display_name": "base",
   "language": "python",
   "name": "python3"
  },
  "language_info": {
   "codemirror_mode": {
    "name": "ipython",
    "version": 3
   },
   "file_extension": ".py",
   "mimetype": "text/x-python",
   "name": "python",
   "nbconvert_exporter": "python",
   "pygments_lexer": "ipython3",
   "version": "3.10.9"
  }
 },
 "nbformat": 4,
 "nbformat_minor": 2
}
