{
 "cells": [
  {
   "cell_type": "code",
   "execution_count": null,
   "id": "7c1fce30",
   "metadata": {},
   "outputs": [],
   "source": [
    "import sys\n",
    "from pathlib import Path\n",
    "\n",
    "# Añade src al path\n",
    "sys.path.append(str(Path().resolve().parent / \"src\"))"
   ]
  },
  {
   "cell_type": "code",
   "execution_count": null,
   "id": "c48145be",
   "metadata": {},
   "outputs": [],
   "source": [
    "import pandas as pd\n",
    "from paths import TRANSFORMED_DATA_DIR\n",
    "\n",
    "# Cargamos datos transformados\n",
    "df = pd.read_parquet(TRANSFORMED_DATA_DIR / 'tabular_data_year_2024_4weeks_lags.parquet')\n",
    "\n",
    "df"
   ]
  },
  {
   "cell_type": "code",
   "execution_count": null,
   "id": "79e7e26d",
   "metadata": {},
   "outputs": [],
   "source": [
    "from data_split import train_test_split\n",
    "from datetime import datetime\n",
    "\n",
    "# Train test split\n",
    "X_train, y_train, X_test, y_test = train_test_split(\n",
    "    df,\n",
    "    cutoff_date=datetime(2024, 1, 25),\n",
    "    target_column_name='target'\n",
    ")\n",
    "\n",
    "print(f'{X_train.shape=}')\n",
    "print(f'{y_train.shape=}')\n",
    "print(f'{X_test.shape=}')\n",
    "print(f'{y_test.shape=}')"
   ]
  },
  {
   "cell_type": "code",
   "execution_count": null,
   "id": "f57dce26",
   "metadata": {},
   "outputs": [],
   "source": [
    "# poetry add optuna\n",
    "# !pip install optuna"
   ]
  },
  {
   "cell_type": "code",
   "execution_count": null,
   "id": "61396c31",
   "metadata": {},
   "outputs": [],
   "source": [
    "# Importamos las librerías necesarias\n",
    "import numpy as np\n",
    "from sklearn.model_selection import KFold, TimeSeriesSplit\n",
    "from sklearn.pipeline import make_pipeline\n",
    "from sklearn.metrics import mean_absolute_error\n",
    "import optuna\n",
    "\n",
    "\n",
    "# Usamos un pipeline\n",
    "from model import get_pipeline\n",
    "\n",
    "# Definimos la función objetivo de optuna\n",
    "def objective(trial: optuna.trial.Trial) -> float:\n",
    "    \"\"\"\n",
    "    Given a set of hyper-parameters, it trains a model and computes an average\n",
    "    validation error based on a TimeSeriesSplit\n",
    "    \"\"\"\n",
    "    # pick hyper-parameters\n",
    "    hyperparams = {\n",
    "        \"metric\": 'mae',\n",
    "        \"verbose\": -1,\n",
    "        \"num_leaves\": trial.suggest_int(\"num_leaves\", 2, 256),\n",
    "        \"feature_fraction\": trial.suggest_float(\"feature_fraction\", 0.2, 1.0),\n",
    "        \"bagging_fraction\": trial.suggest_float(\"bagging_fraction\", 0.2, 1.0),\n",
    "        \"min_child_samples\": trial.suggest_int(\"min_child_samples\", 3, 100),   \n",
    "    }\n",
    "    \n",
    "    # Usammos un TimeSeriesSplit\n",
    "    tss = TimeSeriesSplit(n_splits=3) # n_splits=3 para el ejemplo\n",
    "    # tss = KFold(n_splits=3) # Kfold\n",
    "    scores = []\n",
    "        \n",
    "    for train_index, val_index in tss.split(X_train):\n",
    "\n",
    "        # split data for training and validation\n",
    "        X_train_, X_val_ = X_train.iloc[train_index, :], X_train.iloc[val_index,:]\n",
    "        y_train_, y_val_ = y_train.iloc[train_index], y_train.iloc[val_index]\n",
    "        \n",
    "        # train the model\n",
    "        pipeline = get_pipeline(**hyperparams)\n",
    "        pipeline.fit(X_train_, y_train_)\n",
    "        \n",
    "        # evaluate the model\n",
    "        y_pred = pipeline.predict(X_val_)\n",
    "        mae = mean_absolute_error(y_val_, y_pred)\n",
    "\n",
    "        scores.append(mae)\n",
    "   \n",
    "    # Return the mean score\n",
    "    return np.array(scores).mean()"
   ]
  },
  {
   "cell_type": "code",
   "execution_count": null,
   "id": "52d003cc",
   "metadata": {},
   "outputs": [],
   "source": [
    "# Estudio con Optuna\n",
    "study = optuna.create_study(direction='minimize') # minimizar el error\n",
    "study.optimize(objective, n_trials=50) # 50 iteraciones"
   ]
  },
  {
   "cell_type": "code",
   "execution_count": null,
   "id": "a554344d",
   "metadata": {},
   "outputs": [],
   "source": [
    "# Imprimimos mejores hiperparámetros\n",
    "best_params = study.best_trial.params\n",
    "print(f'{best_params=}')"
   ]
  },
  {
   "cell_type": "code",
   "execution_count": null,
   "id": "fed2d521",
   "metadata": {},
   "outputs": [],
   "source": [
    "# Aplicamos el pipeline con los mejores hiperparámetros\n",
    "pipeline = get_pipeline(**best_params)\n",
    "pipeline.fit(X_train, y_train)"
   ]
  },
  {
   "cell_type": "code",
   "execution_count": null,
   "id": "0b264acc",
   "metadata": {},
   "outputs": [],
   "source": [
    "# Evaluamos el modelo\n",
    "predictions = pipeline.predict(X_test)\n",
    "test_mae = mean_absolute_error(y_test, predictions)\n",
    "print(f'{test_mae=:.4f}')"
   ]
  }
 ],
 "metadata": {
  "kernelspec": {
   "display_name": ".venv",
   "language": "python",
   "name": "python3"
  },
  "language_info": {
   "name": "python",
   "version": "3.10.10"
  }
 },
 "nbformat": 4,
 "nbformat_minor": 5
}
